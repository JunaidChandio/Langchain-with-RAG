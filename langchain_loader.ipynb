{
  "nbformat": 4,
  "nbformat_minor": 0,
  "metadata": {
    "colab": {
      "provenance": [],
      "gpuType": "T4"
    },
    "kernelspec": {
      "name": "python3",
      "display_name": "Python 3"
    },
    "language_info": {
      "name": "python"
    },
    "accelerator": "GPU"
  },
  "cells": [
    {
      "cell_type": "code",
      "execution_count": 41,
      "metadata": {
        "id": "W4W70J8os4I7",
        "colab": {
          "base_uri": "https://localhost:8080/"
        },
        "outputId": "f925cfff-abf1-4f9d-f9a4-30e0c21286a9"
      },
      "outputs": [
        {
          "output_type": "stream",
          "name": "stdout",
          "text": [
            "Requirement already satisfied: langchain in /usr/local/lib/python3.10/dist-packages (0.3.0)\n",
            "Requirement already satisfied: PyYAML>=5.3 in /usr/local/lib/python3.10/dist-packages (from langchain) (6.0.2)\n",
            "Requirement already satisfied: SQLAlchemy<3,>=1.4 in /usr/local/lib/python3.10/dist-packages (from langchain) (2.0.35)\n",
            "Requirement already satisfied: aiohttp<4.0.0,>=3.8.3 in /usr/local/lib/python3.10/dist-packages (from langchain) (3.10.5)\n",
            "Requirement already satisfied: async-timeout<5.0.0,>=4.0.0 in /usr/local/lib/python3.10/dist-packages (from langchain) (4.0.3)\n",
            "Requirement already satisfied: langchain-core<0.4.0,>=0.3.0 in /usr/local/lib/python3.10/dist-packages (from langchain) (0.3.2)\n",
            "Requirement already satisfied: langchain-text-splitters<0.4.0,>=0.3.0 in /usr/local/lib/python3.10/dist-packages (from langchain) (0.3.0)\n",
            "Requirement already satisfied: langsmith<0.2.0,>=0.1.17 in /usr/local/lib/python3.10/dist-packages (from langchain) (0.1.125)\n",
            "Requirement already satisfied: numpy<2,>=1 in /usr/local/lib/python3.10/dist-packages (from langchain) (1.26.4)\n",
            "Requirement already satisfied: pydantic<3.0.0,>=2.7.4 in /usr/local/lib/python3.10/dist-packages (from langchain) (2.9.2)\n",
            "Requirement already satisfied: requests<3,>=2 in /usr/local/lib/python3.10/dist-packages (from langchain) (2.32.3)\n",
            "Requirement already satisfied: tenacity!=8.4.0,<9.0.0,>=8.1.0 in /usr/local/lib/python3.10/dist-packages (from langchain) (8.5.0)\n",
            "Requirement already satisfied: aiohappyeyeballs>=2.3.0 in /usr/local/lib/python3.10/dist-packages (from aiohttp<4.0.0,>=3.8.3->langchain) (2.4.0)\n",
            "Requirement already satisfied: aiosignal>=1.1.2 in /usr/local/lib/python3.10/dist-packages (from aiohttp<4.0.0,>=3.8.3->langchain) (1.3.1)\n",
            "Requirement already satisfied: attrs>=17.3.0 in /usr/local/lib/python3.10/dist-packages (from aiohttp<4.0.0,>=3.8.3->langchain) (24.2.0)\n",
            "Requirement already satisfied: frozenlist>=1.1.1 in /usr/local/lib/python3.10/dist-packages (from aiohttp<4.0.0,>=3.8.3->langchain) (1.4.1)\n",
            "Requirement already satisfied: multidict<7.0,>=4.5 in /usr/local/lib/python3.10/dist-packages (from aiohttp<4.0.0,>=3.8.3->langchain) (6.1.0)\n",
            "Requirement already satisfied: yarl<2.0,>=1.0 in /usr/local/lib/python3.10/dist-packages (from aiohttp<4.0.0,>=3.8.3->langchain) (1.11.1)\n",
            "Requirement already satisfied: jsonpatch<2.0,>=1.33 in /usr/local/lib/python3.10/dist-packages (from langchain-core<0.4.0,>=0.3.0->langchain) (1.33)\n",
            "Requirement already satisfied: packaging<25,>=23.2 in /usr/local/lib/python3.10/dist-packages (from langchain-core<0.4.0,>=0.3.0->langchain) (24.1)\n",
            "Requirement already satisfied: typing-extensions>=4.7 in /usr/local/lib/python3.10/dist-packages (from langchain-core<0.4.0,>=0.3.0->langchain) (4.12.2)\n",
            "Requirement already satisfied: httpx<1,>=0.23.0 in /usr/local/lib/python3.10/dist-packages (from langsmith<0.2.0,>=0.1.17->langchain) (0.27.2)\n",
            "Requirement already satisfied: orjson<4.0.0,>=3.9.14 in /usr/local/lib/python3.10/dist-packages (from langsmith<0.2.0,>=0.1.17->langchain) (3.10.7)\n",
            "Requirement already satisfied: annotated-types>=0.6.0 in /usr/local/lib/python3.10/dist-packages (from pydantic<3.0.0,>=2.7.4->langchain) (0.7.0)\n",
            "Requirement already satisfied: pydantic-core==2.23.4 in /usr/local/lib/python3.10/dist-packages (from pydantic<3.0.0,>=2.7.4->langchain) (2.23.4)\n",
            "Requirement already satisfied: charset-normalizer<4,>=2 in /usr/local/lib/python3.10/dist-packages (from requests<3,>=2->langchain) (3.3.2)\n",
            "Requirement already satisfied: idna<4,>=2.5 in /usr/local/lib/python3.10/dist-packages (from requests<3,>=2->langchain) (3.10)\n",
            "Requirement already satisfied: urllib3<3,>=1.21.1 in /usr/local/lib/python3.10/dist-packages (from requests<3,>=2->langchain) (2.0.7)\n",
            "Requirement already satisfied: certifi>=2017.4.17 in /usr/local/lib/python3.10/dist-packages (from requests<3,>=2->langchain) (2024.8.30)\n",
            "Requirement already satisfied: greenlet!=0.4.17 in /usr/local/lib/python3.10/dist-packages (from SQLAlchemy<3,>=1.4->langchain) (3.1.0)\n",
            "Requirement already satisfied: anyio in /usr/local/lib/python3.10/dist-packages (from httpx<1,>=0.23.0->langsmith<0.2.0,>=0.1.17->langchain) (3.7.1)\n",
            "Requirement already satisfied: httpcore==1.* in /usr/local/lib/python3.10/dist-packages (from httpx<1,>=0.23.0->langsmith<0.2.0,>=0.1.17->langchain) (1.0.5)\n",
            "Requirement already satisfied: sniffio in /usr/local/lib/python3.10/dist-packages (from httpx<1,>=0.23.0->langsmith<0.2.0,>=0.1.17->langchain) (1.3.1)\n",
            "Requirement already satisfied: h11<0.15,>=0.13 in /usr/local/lib/python3.10/dist-packages (from httpcore==1.*->httpx<1,>=0.23.0->langsmith<0.2.0,>=0.1.17->langchain) (0.14.0)\n",
            "Requirement already satisfied: jsonpointer>=1.9 in /usr/local/lib/python3.10/dist-packages (from jsonpatch<2.0,>=1.33->langchain-core<0.4.0,>=0.3.0->langchain) (3.0.0)\n",
            "Requirement already satisfied: exceptiongroup in /usr/local/lib/python3.10/dist-packages (from anyio->httpx<1,>=0.23.0->langsmith<0.2.0,>=0.1.17->langchain) (1.2.2)\n"
          ]
        }
      ],
      "source": [
        "!pip install langchain"
      ]
    },
    {
      "cell_type": "code",
      "source": [
        "!pip install langchain langchain-community"
      ],
      "metadata": {
        "colab": {
          "base_uri": "https://localhost:8080/"
        },
        "id": "5p9yIS3vlFMx",
        "outputId": "a6778814-ef70-4393-9970-5563a327ea90"
      },
      "execution_count": 42,
      "outputs": [
        {
          "output_type": "stream",
          "name": "stdout",
          "text": [
            "Requirement already satisfied: langchain in /usr/local/lib/python3.10/dist-packages (0.3.0)\n",
            "Requirement already satisfied: langchain-community in /usr/local/lib/python3.10/dist-packages (0.3.0)\n",
            "Requirement already satisfied: PyYAML>=5.3 in /usr/local/lib/python3.10/dist-packages (from langchain) (6.0.2)\n",
            "Requirement already satisfied: SQLAlchemy<3,>=1.4 in /usr/local/lib/python3.10/dist-packages (from langchain) (2.0.35)\n",
            "Requirement already satisfied: aiohttp<4.0.0,>=3.8.3 in /usr/local/lib/python3.10/dist-packages (from langchain) (3.10.5)\n",
            "Requirement already satisfied: async-timeout<5.0.0,>=4.0.0 in /usr/local/lib/python3.10/dist-packages (from langchain) (4.0.3)\n",
            "Requirement already satisfied: langchain-core<0.4.0,>=0.3.0 in /usr/local/lib/python3.10/dist-packages (from langchain) (0.3.2)\n",
            "Requirement already satisfied: langchain-text-splitters<0.4.0,>=0.3.0 in /usr/local/lib/python3.10/dist-packages (from langchain) (0.3.0)\n",
            "Requirement already satisfied: langsmith<0.2.0,>=0.1.17 in /usr/local/lib/python3.10/dist-packages (from langchain) (0.1.125)\n",
            "Requirement already satisfied: numpy<2,>=1 in /usr/local/lib/python3.10/dist-packages (from langchain) (1.26.4)\n",
            "Requirement already satisfied: pydantic<3.0.0,>=2.7.4 in /usr/local/lib/python3.10/dist-packages (from langchain) (2.9.2)\n",
            "Requirement already satisfied: requests<3,>=2 in /usr/local/lib/python3.10/dist-packages (from langchain) (2.32.3)\n",
            "Requirement already satisfied: tenacity!=8.4.0,<9.0.0,>=8.1.0 in /usr/local/lib/python3.10/dist-packages (from langchain) (8.5.0)\n",
            "Requirement already satisfied: dataclasses-json<0.7,>=0.5.7 in /usr/local/lib/python3.10/dist-packages (from langchain-community) (0.6.7)\n",
            "Requirement already satisfied: pydantic-settings<3.0.0,>=2.4.0 in /usr/local/lib/python3.10/dist-packages (from langchain-community) (2.5.2)\n",
            "Requirement already satisfied: aiohappyeyeballs>=2.3.0 in /usr/local/lib/python3.10/dist-packages (from aiohttp<4.0.0,>=3.8.3->langchain) (2.4.0)\n",
            "Requirement already satisfied: aiosignal>=1.1.2 in /usr/local/lib/python3.10/dist-packages (from aiohttp<4.0.0,>=3.8.3->langchain) (1.3.1)\n",
            "Requirement already satisfied: attrs>=17.3.0 in /usr/local/lib/python3.10/dist-packages (from aiohttp<4.0.0,>=3.8.3->langchain) (24.2.0)\n",
            "Requirement already satisfied: frozenlist>=1.1.1 in /usr/local/lib/python3.10/dist-packages (from aiohttp<4.0.0,>=3.8.3->langchain) (1.4.1)\n",
            "Requirement already satisfied: multidict<7.0,>=4.5 in /usr/local/lib/python3.10/dist-packages (from aiohttp<4.0.0,>=3.8.3->langchain) (6.1.0)\n",
            "Requirement already satisfied: yarl<2.0,>=1.0 in /usr/local/lib/python3.10/dist-packages (from aiohttp<4.0.0,>=3.8.3->langchain) (1.11.1)\n",
            "Requirement already satisfied: marshmallow<4.0.0,>=3.18.0 in /usr/local/lib/python3.10/dist-packages (from dataclasses-json<0.7,>=0.5.7->langchain-community) (3.22.0)\n",
            "Requirement already satisfied: typing-inspect<1,>=0.4.0 in /usr/local/lib/python3.10/dist-packages (from dataclasses-json<0.7,>=0.5.7->langchain-community) (0.9.0)\n",
            "Requirement already satisfied: jsonpatch<2.0,>=1.33 in /usr/local/lib/python3.10/dist-packages (from langchain-core<0.4.0,>=0.3.0->langchain) (1.33)\n",
            "Requirement already satisfied: packaging<25,>=23.2 in /usr/local/lib/python3.10/dist-packages (from langchain-core<0.4.0,>=0.3.0->langchain) (24.1)\n",
            "Requirement already satisfied: typing-extensions>=4.7 in /usr/local/lib/python3.10/dist-packages (from langchain-core<0.4.0,>=0.3.0->langchain) (4.12.2)\n",
            "Requirement already satisfied: httpx<1,>=0.23.0 in /usr/local/lib/python3.10/dist-packages (from langsmith<0.2.0,>=0.1.17->langchain) (0.27.2)\n",
            "Requirement already satisfied: orjson<4.0.0,>=3.9.14 in /usr/local/lib/python3.10/dist-packages (from langsmith<0.2.0,>=0.1.17->langchain) (3.10.7)\n",
            "Requirement already satisfied: annotated-types>=0.6.0 in /usr/local/lib/python3.10/dist-packages (from pydantic<3.0.0,>=2.7.4->langchain) (0.7.0)\n",
            "Requirement already satisfied: pydantic-core==2.23.4 in /usr/local/lib/python3.10/dist-packages (from pydantic<3.0.0,>=2.7.4->langchain) (2.23.4)\n",
            "Requirement already satisfied: python-dotenv>=0.21.0 in /usr/local/lib/python3.10/dist-packages (from pydantic-settings<3.0.0,>=2.4.0->langchain-community) (1.0.1)\n",
            "Requirement already satisfied: charset-normalizer<4,>=2 in /usr/local/lib/python3.10/dist-packages (from requests<3,>=2->langchain) (3.3.2)\n",
            "Requirement already satisfied: idna<4,>=2.5 in /usr/local/lib/python3.10/dist-packages (from requests<3,>=2->langchain) (3.10)\n",
            "Requirement already satisfied: urllib3<3,>=1.21.1 in /usr/local/lib/python3.10/dist-packages (from requests<3,>=2->langchain) (2.0.7)\n",
            "Requirement already satisfied: certifi>=2017.4.17 in /usr/local/lib/python3.10/dist-packages (from requests<3,>=2->langchain) (2024.8.30)\n",
            "Requirement already satisfied: greenlet!=0.4.17 in /usr/local/lib/python3.10/dist-packages (from SQLAlchemy<3,>=1.4->langchain) (3.1.0)\n",
            "Requirement already satisfied: anyio in /usr/local/lib/python3.10/dist-packages (from httpx<1,>=0.23.0->langsmith<0.2.0,>=0.1.17->langchain) (3.7.1)\n",
            "Requirement already satisfied: httpcore==1.* in /usr/local/lib/python3.10/dist-packages (from httpx<1,>=0.23.0->langsmith<0.2.0,>=0.1.17->langchain) (1.0.5)\n",
            "Requirement already satisfied: sniffio in /usr/local/lib/python3.10/dist-packages (from httpx<1,>=0.23.0->langsmith<0.2.0,>=0.1.17->langchain) (1.3.1)\n",
            "Requirement already satisfied: h11<0.15,>=0.13 in /usr/local/lib/python3.10/dist-packages (from httpcore==1.*->httpx<1,>=0.23.0->langsmith<0.2.0,>=0.1.17->langchain) (0.14.0)\n",
            "Requirement already satisfied: jsonpointer>=1.9 in /usr/local/lib/python3.10/dist-packages (from jsonpatch<2.0,>=1.33->langchain-core<0.4.0,>=0.3.0->langchain) (3.0.0)\n",
            "Requirement already satisfied: mypy-extensions>=0.3.0 in /usr/local/lib/python3.10/dist-packages (from typing-inspect<1,>=0.4.0->dataclasses-json<0.7,>=0.5.7->langchain-community) (1.0.0)\n",
            "Requirement already satisfied: exceptiongroup in /usr/local/lib/python3.10/dist-packages (from anyio->httpx<1,>=0.23.0->langsmith<0.2.0,>=0.1.17->langchain) (1.2.2)\n"
          ]
        }
      ]
    },
    {
      "cell_type": "code",
      "source": [
        "!pip install Pypdf"
      ],
      "metadata": {
        "colab": {
          "base_uri": "https://localhost:8080/"
        },
        "id": "s1T9piz_lzxA",
        "outputId": "d67f15e3-449c-40a6-91ad-32c835b3e03e"
      },
      "execution_count": 43,
      "outputs": [
        {
          "output_type": "stream",
          "name": "stdout",
          "text": [
            "Requirement already satisfied: Pypdf in /usr/local/lib/python3.10/dist-packages (5.0.0)\n",
            "Requirement already satisfied: typing_extensions>=4.0 in /usr/local/lib/python3.10/dist-packages (from Pypdf) (4.12.2)\n"
          ]
        }
      ]
    },
    {
      "cell_type": "code",
      "source": [
        "from langchain.document_loaders import PyPDFLoader\n",
        "loader=PyPDFLoader(\"/content/National AI Policy Consultation Draft V1.pdf\")\n",
        "pages=loader.load()"
      ],
      "metadata": {
        "id": "h1ijBz08miYn"
      },
      "execution_count": 44,
      "outputs": []
    },
    {
      "cell_type": "code",
      "source": [
        "len(pages)"
      ],
      "metadata": {
        "colab": {
          "base_uri": "https://localhost:8080/"
        },
        "id": "5tgfMgLcuxrG",
        "outputId": "69e49220-06bf-4a60-c0a3-844fffd9588c"
      },
      "execution_count": 45,
      "outputs": [
        {
          "output_type": "execute_result",
          "data": {
            "text/plain": [
              "41"
            ]
          },
          "metadata": {},
          "execution_count": 45
        }
      ]
    },
    {
      "cell_type": "code",
      "source": [
        "page"
      ],
      "metadata": {
        "colab": {
          "base_uri": "https://localhost:8080/"
        },
        "id": "_NgI7Uqgvj4D",
        "outputId": "d70ef470-7016-4fb9-f4ac-25fcd1ce0a38"
      },
      "execution_count": 46,
      "outputs": [
        {
          "output_type": "execute_result",
          "data": {
            "text/plain": [
              "Document(metadata={'source': '/content/National AI Policy Consultation Draft V1.pdf', 'page': 0}, page_content=' \\n \\ni\\n \\n \\n \\n \\n \\n \\n \\n \\n \\n \\n \\n \\n \\n \\n \\n \\n \\n \\n \\n \\n \\n \\n \\n \\n                        Draft\\nNational\\n \\nArtificial Intelligence Policy\\n \\n \\n \\n \\n \\n \\n \\n \\n \\n \\n \\n \\n \\n \\n \\n \\n \\n \\n \\n \\n \\n \\n \\n \\nGovernment of Pakistan\\nMinistry of Information Technology & Telecommunication\\nhttps://moitt.gov.pk\\n \\n \\n \\n')"
            ]
          },
          "metadata": {},
          "execution_count": 46
        }
      ]
    },
    {
      "cell_type": "code",
      "source": [
        "page=pages[0]\n",
        "print(page.page_content[0:500])"
      ],
      "metadata": {
        "colab": {
          "base_uri": "https://localhost:8080/"
        },
        "id": "ww-4bFFsvHeA",
        "outputId": "3bd55b85-f290-4f1a-f09b-9691f21ed785"
      },
      "execution_count": 47,
      "outputs": [
        {
          "output_type": "stream",
          "name": "stdout",
          "text": [
            " \n",
            " \n",
            "i\n",
            " \n",
            " \n",
            " \n",
            " \n",
            " \n",
            " \n",
            " \n",
            " \n",
            " \n",
            " \n",
            " \n",
            " \n",
            " \n",
            " \n",
            " \n",
            " \n",
            " \n",
            " \n",
            " \n",
            " \n",
            " \n",
            " \n",
            " \n",
            " \n",
            "                        Draft\n",
            "National\n",
            " \n",
            "Artificial Intelligence Policy\n",
            " \n",
            " \n",
            " \n",
            " \n",
            " \n",
            " \n",
            " \n",
            " \n",
            " \n",
            " \n",
            " \n",
            " \n",
            " \n",
            " \n",
            " \n",
            " \n",
            " \n",
            " \n",
            " \n",
            " \n",
            " \n",
            " \n",
            " \n",
            " \n",
            "Government of Pakistan\n",
            "Ministry of Information Technology & Telecommunication\n",
            "https://moitt.gov.pk\n",
            " \n",
            " \n",
            " \n",
            "\n"
          ]
        }
      ]
    },
    {
      "cell_type": "code",
      "source": [
        "page.metadata['page']\n",
        "page.metadata['source']"
      ],
      "metadata": {
        "colab": {
          "base_uri": "https://localhost:8080/",
          "height": 36
        },
        "id": "o16hF1cNvXco",
        "outputId": "1a2d0971-0c14-4d40-e6df-c506917aa502"
      },
      "execution_count": 48,
      "outputs": [
        {
          "output_type": "execute_result",
          "data": {
            "text/plain": [
              "'/content/National AI Policy Consultation Draft V1.pdf'"
            ],
            "application/vnd.google.colaboratory.intrinsic+json": {
              "type": "string"
            }
          },
          "metadata": {},
          "execution_count": 48
        }
      ]
    },
    {
      "cell_type": "code",
      "source": [
        "from langchain.document_loaders import TextLoader\n",
        "loader=TextLoader(\"/content/National AI Policy Consultation Draft V1.txt\")\n",
        "data=loader.load()\n"
      ],
      "metadata": {
        "id": "-r7SWgoPyGL3"
      },
      "execution_count": 49,
      "outputs": []
    },
    {
      "cell_type": "code",
      "source": [
        "len(data)"
      ],
      "metadata": {
        "colab": {
          "base_uri": "https://localhost:8080/"
        },
        "id": "MtY8f_mTzEJe",
        "outputId": "3557d8af-cc52-45f5-8ce3-a2f12a366467"
      },
      "execution_count": 50,
      "outputs": [
        {
          "output_type": "execute_result",
          "data": {
            "text/plain": [
              "1"
            ]
          },
          "metadata": {},
          "execution_count": 50
        }
      ]
    },
    {
      "cell_type": "code",
      "source": [
        "!pip install docx2txt"
      ],
      "metadata": {
        "colab": {
          "base_uri": "https://localhost:8080/"
        },
        "id": "ldey9b-f10Gg",
        "outputId": "f7c98358-cd3b-4de5-de44-29b7ca1a19fd"
      },
      "execution_count": 51,
      "outputs": [
        {
          "output_type": "stream",
          "name": "stdout",
          "text": [
            "Requirement already satisfied: docx2txt in /usr/local/lib/python3.10/dist-packages (0.8)\n"
          ]
        }
      ]
    },
    {
      "cell_type": "code",
      "source": [
        "from langchain.document_loaders import Docx2txtLoader\n",
        "loader=Docx2txtLoader(\"/content/basic course outline.docx\")\n",
        "doc_data=loader.load()"
      ],
      "metadata": {
        "id": "UwDMCdmRzYcC"
      },
      "execution_count": 52,
      "outputs": []
    },
    {
      "cell_type": "code",
      "source": [
        "doc_data"
      ],
      "metadata": {
        "colab": {
          "base_uri": "https://localhost:8080/"
        },
        "id": "LQ7vvY6T2lWj",
        "outputId": "174cc95d-3886-4982-c1e7-96b428cae44a"
      },
      "execution_count": 53,
      "outputs": [
        {
          "output_type": "execute_result",
          "data": {
            "text/plain": [
              "[Document(metadata={'source': '/content/basic course outline.docx'}, page_content='Stage 0: Orientation days (1)\\n\\nWhat it AI?\\n\\nWhat is future going to be like?\\n\\nSome Demos and interesting videos on it.\\n\\nObject detection\\n\\nSegmentation\\n\\nClassification\\n\\nGenerative models\\n\\nChatgpt\\n\\nDall-e\\n\\nstable-diffusion\\n\\nOur Goal and Expectations from Students.\\n\\nWorking plan.\\n\\nWork Ethics\\n\\nPractise sessions\\n\\nEvaluations\\n\\nProfessional Grooming\\n\\nStage 1: Introduction with the Tools days (3 to 4)\\n\\nIntroduction to Chat Gpt and Interaction with it.\\n\\nIntroduction to Dall-E\\xa0 and interaction with it.\\n\\nIntroduction to Stable Diffusion and interaction with it\\n\\nGuideline about prompting.\\n\\nAt the initial stage the students should interact with Open.ai tools like Chat GPT and DALL-E-2. This will greatly develop their interest and help them understand the products better. From this they will also learn the prompting which will help them later.\\n\\nStage 2: Basics of python days (20 to 30)\\n\\nInstalling the IDE and Making Environments\\n\\nBasic Variables\\n\\nData types\\n\\nString manipulation\\n\\nList\\n\\nLoops\\n\\nTuples\\n\\nDictionary\\n\\nJSON\\n\\nFunctions\\n\\nBuilt in\\n\\nCustom\\n\\nClasses in python\\n\\nDeclaration\\n\\nInitialization\\n\\nCode practise with Chat GPT\\n\\nStage Evaluation\\n\\nStage 3: Basics of ML days (5 to 6)\\n\\nIntroduction the Machine Learning\\n\\nSupervised Learning\\n\\nVideo demo\\n\\nSemi-supervised Learning\\n\\nVideo demo\\n\\nUn-supervised Learning\\n\\nVideo demo\\n\\nRe-inforcement learning\\n\\nVideo demo\\n\\nBasics of ML Model\\n\\nModel\\n\\nDataset\\n\\nTypes of Data sets (Structured , Unstructured)\\n\\nExamples of Datasets\\n\\nData preprocessing\\n\\nData Cleaning (Missing Values and Outliers)\\n\\nDimensionality Reduction\\n\\nData Transformation\\n\\nTraining process (Theory at this stage)\\n\\nTesting process\\xa0 (Theory at this stage)\\n\\nEvaluation Metric\\n\\nLoss functions\\n\\nConfusion matric\\n\\nAccuracy\\n\\nPrecision\\n\\nRecall\\n\\nStage Evaluation\\n\\nStage 4: Basics of API days (10 to 15)\\n\\nIntroduction to API\\n\\nBasics of API\\n\\nOpen.ai API\\n\\nStable Diffusion API\\n\\nFast API\\n\\nStage Project 1: (NLP Project)\\n\\nStage Project 2: (Image Generation Project)\\n\\nStage Evaluation\\n\\nStage 5: Basics of ML frame work days (20 to 30)\\n\\nUnderstanding of Scikit-learn for Machine Learning Models\\n\\nWorking with Structured Data (ETL Pipeline) Using Scikit-Learn\\n\\nData Cleaning (Missing Values and Outliers)\\n\\nDimensionality Reduction\\n\\nData Transformation\\n\\nConcept of classification and regression\\n\\nDifference between them and where to use them\\n\\nUse case examples\\n\\nCreating Classification Models using Scikit-learn\\n\\nEvaluating Classification Models\\n\\nCreating Regression Models using Scikit-learn\\n\\nEvaluating Regression Models\\n\\nCreating Recommender System (Content Based and Collaborative Filtering based)\\n\\nStage Project\\n\\nStage 6: Basics of Data Visualisations days (5 to 7)\\n\\nBasic concepts of Matplotlib\\n\\nIntroduction to Visualisations\\n\\nLine plot\\n\\nScatter plot\\n\\nRegression plot\\n\\nBar charts\\n\\nDistribution plots\\n\\nBox plot\\n\\nCreating Visualisations using Seaborn\\n\\nCreating Visualisations using Plotly\\n\\nStage Evaluation\\n\\nStage 7: Introduction to Hugging Face days (10 to 15)\\n\\nIntroduction to Hugging Face\\n\\nInstallation and Setup\\n\\nText Classification using Pipelines\\n\\nHands on practise\\n\\nName Entity Recognition (NER) with Pipelines\\n\\nHand on practise\\n\\nSentiment Analysis With Pipelines\\n\\nHands on practise\\n\\nStage Evaluation')]"
            ]
          },
          "metadata": {},
          "execution_count": 53
        }
      ]
    },
    {
      "cell_type": "code",
      "source": [
        "doc_data[0].metadata"
      ],
      "metadata": {
        "colab": {
          "base_uri": "https://localhost:8080/"
        },
        "id": "lOW5ygsX33uU",
        "outputId": "94da905a-3096-47fd-8c9a-c526a022ee84"
      },
      "execution_count": 54,
      "outputs": [
        {
          "output_type": "execute_result",
          "data": {
            "text/plain": [
              "{'source': '/content/basic course outline.docx'}"
            ]
          },
          "metadata": {},
          "execution_count": 54
        }
      ]
    },
    {
      "cell_type": "code",
      "source": [
        "from langchain.document_loaders import WebBaseLoader\n",
        "loader=WebBaseLoader(\"https://www.xevensolutions.com/\")\n",
        "docs=loader.load()"
      ],
      "metadata": {
        "id": "4SvWMtcZ4LNa"
      },
      "execution_count": 55,
      "outputs": []
    },
    {
      "cell_type": "code",
      "source": [
        "docs"
      ],
      "metadata": {
        "colab": {
          "base_uri": "https://localhost:8080/"
        },
        "id": "TjgfC8Jz45cJ",
        "outputId": "6d2a4131-8636-4438-b4e1-bc6f3044d7f0"
      },
      "execution_count": 56,
      "outputs": [
        {
          "output_type": "execute_result",
          "data": {
            "text/plain": [
              "[Document(metadata={'source': 'https://www.xevensolutions.com/', 'title': 'Xeven Solutions - AI Development & Solutions Company', 'description': 'Xeven Solutions is a leading AI Development & Solutions Company providing custom AI-based software services to automate workflow and boost innovation.', 'language': 'en-US'}, page_content=\"\\n\\n\\n\\n\\n\\n\\nXeven Solutions - AI Development & Solutions Company\\n\\n\\n\\n\\n\\n\\n\\n\\n\\n\\n\\n\\n\\n\\n\\n\\n\\n\\n\\n\\n\\n\\n\\n\\n\\n\\n\\n\\n\\n\\n\\n\\n\\n\\n\\n\\n\\n\\n\\n\\n\\n\\n\\n\\n\\n\\n\\n\\n\\n\\n\\n\\n\\n\\n\\n\\n\\n\\n\\n\\n\\n\\n\\n\\n\\n\\n\\n\\n\\n\\n\\n\\n\\n\\n\\n\\n\\n\\n\\n\\n\\n\\n\\n\\n\\n\\n \\n\\n\\n\\n\\n\\n \\n\\n\\n\\n\\n\\n\\n\\n\\n \\n\\n\\nServices\\n\\nAI Development Services AI Chatbot Development Predictive Modelling\\u200b Mobile App Development Chat GPT Integrations Custom Software Natural Language Processing Digital Marketing Machine Learning DevOps Computer Vision\\u200b Custom Web Development Staff Augmentation UI UX Design\\n\\nSalesforce\\nIndustries\\n\\nHealthTech EdTech FinTech GreenTech Internet of Things Retail AI Diagnostics E-Commerce Smart Healthcare HIPAA Compliance\\n\\nPortfolio\\nCompany\\n\\nAbout Us Life at Xeven\\n\\nResource\\n\\nBlogs Gallery Careers\\n\\nContact Us\\n\\n\\n\\n\\nX\\n \\n\\n\\n\\n\\n\\n\\n\\n\\n\\n\\n\\n\\n\\n\\n\\n\\n\\n\\n \\n\\n\\n\\n\\n\\n\\n\\n\\n\\n\\n\\n \\n1-267-800-0191\\n\\n\\n\\n\\n\\n\\n\\n\\n\\n\\n\\n\\n\\n\\nFree AI Consultation\\n\\n\\n\\n\\n\\n\\n\\n\\n\\n\\n\\n\\n\\n\\n\\n\\n\\n\\n\\n\\n\\n\\n\\n\\n\\n\\n\\n\\n\\nYour Trusted AI Development Company \\n\\n\\n\\n\\t\\t\\t\\t\\t\\t\\tWe build meaningful AI Healthcare Solutions to shape the future of your business\\t\\t\\t\\t\\t\\t\\n\\n\\n\\n\\n\\n\\nGet Free AI Consultation\\n\\n\\n\\n\\n\\n\\n\\n\\n\\n\\n\\n\\n\\n\\n\\n\\n\\n\\n\\nDrive Unstoppable Business Success Through AI! \\n\\n\\n\\n \\n\\n\\n\\nMaximize your business potential with our exceptional AI Development Services. Our customer-centric and passionate team of engineers is committed to delivering tailored solutions that exceed your expectations.We leverage our expertise in machine learning, deep learning, and AI development to deliver exceptional solutions in NLP, computer vision, predictive analytics, generative AI, AI chatbot development, and more.Our AI-based solutions offer a clear pathway to success, helping businesses improve decision-making, automate operations, save time, and boost profits. Partner with Xeven Solutions – AI Experts in Pakistan, to seamlessly integrate, scale, and access data-driven insights, leading to exceptional business outcomes. \\n\\n\\n\\n\\n\\n\\nGet A Free Quote\\n\\n\\n\\n\\n\\n\\n\\n\\n\\n\\n\\n \\n\\n\\n\\n\\n\\n\\n\\n\\n\\n\\n\\nServices We Offer \\n\\n\\n\\n \\n\\n\\n\\n\\n\\nAI DevelopmentAI Chatbot DevelopmentChatGPT IntegrationMachine & Deep LearningComputer VisionBig Data AnalyticsPredictive ModelingCustom Software DevelopmentDigital MarketingNatural Language ProcessingDevOpsUI/UX  \\n\\nAI DevelopmentAt Xeven Solutions, innovation meets intelligence. Our team of experts utilizes cutting-edge technologies to craft custom AI solutions that seamlessly integrate with your unique requirements, revolutionizing how you operate.Business Benefits of Choosing UsCutting-Edge Expertise: Our team of experts is proficient in utilizing the latest technologies to develop custom AI solutions tailored to your needs.Seamless Integration: We are dedicated to seamlessly integrating our AI solutions with your existing infrastructure, ensuring a smooth transition.Comprehensive AI Development Services: From machine learning to natural language processing, our AI Development Services elevate your organization's capabilities.Empowering Organizational Capabilities: Our mission is to empower organizations like yours to not only adapt but thrive in the dynamic landscape of AI technology.Read MoreAI Chatbot DevelopmentOur AI Chatbot Development Services are designed to transform customer interactions for businesses. We specialize in crafting Intelligent chatbots that engage in human-like dialogue.Business Benefits of Choosing UsSmart Dialogue: We specialize in crafting chatbots capable of engaging in intelligent conversations. Our chatbots are designed to understand user queries and provide relevant responses.Task Automation: Our chatbots excel in automating tasks, streamlining processes, and reducing manual intervention. It significantly improves efficiency.24/7 Customer Support: With our AI chatbot solutions, businesses can offer round-the-clock customer support. Our chatbots are available 24/7, providing instant assistance to customers.Elevated Online Presence: Experience the future of customer interaction and elevate your brand’s online presence with our AI Chatbot Services today.Read MoreChatGPT IntegrationElevate user experiences by leveraging our ChatGPT Integration Services into your business processes. It enables you to leverage the advanced capabilities of NLP and ML to provide more intuitive and personalized interactions for your customers.Business Benefits of Choosing UsRevolutionize Business Operations: Revolutionize your business operations and reach newer levels of success with our ChatGPT Integration Services.Functionality Enhancement: Enhance the functionality of your existing software platforms by leveraging the power of NLP and ML.PersonalizedCustomer Support: With our ChatGPT Integration Services, you can offer personalized customer support to increase user satisfaction.Task Automation & Competetive Advantage: Automate repetitive tasks with ChatGPT Integration and thrive in a highly competitive business landscape.Read MoreMachine & Deep LearningMachine Learning (ML) has transformed numerous industries, with the ML market forecasted to soar to $204.30 billion by 2024. Leveraging our proficiency in AI development solutions, we harness the power of machine and deep learning to create innovative systems.Business Benefits of Choosing UsClient-Centric Approach: Our seasoned ML engineers collaborate closely with clients to understand their challenges, goals, and requirements.Adaptive Systems Development: We develop systems that not only solve today's challenges but also adapt and evolve to meet the evolving needs of our clients.Machine Learning Development Excellence: We leverage advanced algorithms and techniques to build robust models that drive actionable insights.Next-Gen Solutions: With our expertise in Machine Learning Development Services, we develop future-proof solutions that are affordable, flexible, and scalable.Read MoreComputer VisionAt Xeven Solutions, we help businesses maximize their profits by leveraging our advanced Computer Vision Services. Our Computer Vision systems identify objects and detect patterns by analyzing digital photos and videos.Business Benefits of Choosing UsMore Efficient and Accurate: Our Computer Vision systems leverage advanced image processing, pattern recognition, and ML techniques to offer unparalleled accuracy.Operational Streamlining: Businesses can streamline their operations significantly by implementing our Computer Vision solutions.Insight Generation: Our Computer Vision systems extract meaningful information to empower businesses to gain valuable insights from visual data.More Opportunities: Businesses can unlock new opportunities across various industries with our tailored Computer Vision solutions.Read MoreBig Data AnalyticsBenefit your data-driven business from actionable insights and improved decision-making with our Big Data Analytics Services. Our experienced team of data specialists offers an extensive range of data analytics services crafted to drive the growth of your business.Business Benefits of Choosing UsData Handling: Our approach involves processing, storing, and analyzing massive amounts of data from diverse sources using specialized tools and techniques.Customizable Dashboards: We offer customizable dashboards and reports that enable your business to visualize data that makes sense for your business objectives.Tailored Services: Whether your business operates in finance or any other sector, our Big Data Analytics services can be customized to suit your unique needs.Business Advancement: Our services enable your business to leverage data effectively, enabling you to make smarter decisions.Read MorePredictive ModelingAt Xeven Solutions, we offer innovative Predictive Modeling Services for your business. Our Predictive Modeling services help you to make better decisions, anticipate market trends, identify potential risks and opportunities, and remain agile.Business Benefits of Choosing UsInformed Decision-Making: Our Predictive Modeling services enable businesses to make better decisions by leveraging data-driven insights.Risk and Opportunity Identification: Businesses can identify potential opportunities and risks through our Predictive Modeling Services.Agility and Adaptability: Our services equip businesses with the agility to respond to changing market conditions and optimize operations effectively.Drive Business Success: Whether you are looking to improve forecasting accuracy or enhance operational efficiency, our solutions deliver tangible results and drive business success.Read MoreCustom Software DevelopmentWith over 10 years of experience, Xeven Solutions is a reliable custom software development company that transforms your unique ideas into reality. Our Custom Software Development Services will give you a competitive edge in your industry.Business Benefits of Choosing UsClient-Oriented Approach: Our software developers prioritize client satisfaction and deliver solutions that meet your business objectives.Agile Practices: We utilize agile practices and leverage modern technologies to drive efficiency and innovation in our development processes.Transparent Partnership: We prioritize transparency and trust in our partnerships. Our services guarantee open communication, clear project milestones, and regular updates.Innovative Development: We take pride in delivering innovative solutions that drive measurable results and push the boundaries of what's possible.Read MoreDigital MarketingIgnite your brand's digital potential with our comprehensive Digital Marketing Services. We specialize in data-driven strategies and creative campaigns that enhance your online presence.Business Benefits of Choosing UsData-Driven Strategies: Our expertise lies in creating impactful marketing initiatives that resonate with your target audience and drive results.Tailored Services: We understand that every business has its own objectives and challenges. That's why we customize our services to align with your specific goals.Advocacy for Digitalization: We firmly advocate for digitalization as the essential path forward for any business aiming to excel in today's competitive landscape. Our commitment to this belief is evident in our dedication to digital marketing services.Read MoreNatural Language ProcessingFrom sentiment analysis to chatbot development, our expert NLP Services cover a range of applications across industries. Our expertise involves creating models for computers to understand and generate natural language.Business Benefits of Choosing UsUnderstand Client Requirement: Our team of NLP experts works closely with you to understand your specific needs and develop a tailored solution for your business.Commitment to Technological Innovation: Our highly skilled professionals stay updated on the latest NLP tech to provide cutting-edge solutions and give our clients an innovation edge.Demonstrated Expertise in NLP: Our track record of success and expertise in NLP serves as a testament to our commitment to excellence.Accelerating Business Growth: Our ultimate goal is to accelerate our clients' growth with the transformative capabilities of natural language processing.Read MoreDevOpsExperience the transformative power of our DevOps Services, where seamless integration, automation, and AI-powered optimization converge to redefine your software development landscape.Business Benefits of Choosing UsAI-Powered Optimization: We infuse AI-powered optimization into every aspect of your software’s lifecycle.CI/CD and Containerization Integration: Our approach incorporates CI/CD practices to enable rapid responses to changes and containerization to maintain consistent performance across different environments.Drive Peak Efficiency: Businesses can optimize IT operations and drive peak efficiency with our AI-powered optimization techniques.Accelerate Software Delivery: Businesses can reduce software delivery time-to-market by streamlining development processes and automating deployment tasks.Read MoreUI/UXThe importance of a first impression cannot be overstated. Whether it's your website or mobile app, the initial interaction with users sets the tone for their entire experience. Building a strong digital presence is imperative in today's competitive landscape.Business Benefits of Choosing UsBetter User Engagement: Our UI/UX Design Services focus on intuitive designs and seamless user experiences to boost user engagement.UI/UX Expertise: Our team specializes in crafting user interfaces that help you stand out from the competition and leave a lasting impression on users.Fusion of Creativity and Functionality: We blend creativity and functionality to create stunning interfaces and deliver a user experience that keeps users returning for more.Stunning Interfaces: For businesses like yours, we craft stunning designs that are visually appealing, easy to navigate, and highly engaging.Read More \\n\\n\\n\\n\\n\\n\\n\\n\\n\\n\\n\\n\\n\\n\\nDrive Unstoppable Business Success Through AI! \\n\\n\\n\\n \\n\\n\\n\\nMaximize your business potential with our exceptional AI Development Services. Our customer-centric and passionate team of engineers is committed to delivering tailored solutions that exceed your expectations.We leverage our expertise in machine learning, deep learning, and AI development to deliver exceptional solutions in NLP, computer vision, predictive analytics, generative AI, AI chatbot development, and more.Our AI-based solutions offer a clear pathway to success, helping businesses improve decision-making, automate operations, save time, and boost profits. Partner with Xeven Solutions – AI Experts in Pakistan, to seamlessly integrate, scale, and access data-driven insights, leading to exceptional business outcomes. \\n\\n\\n\\n\\n\\n\\nGet A Free Quote\\n\\n\\n\\n\\n\\n\\n\\n\\n\\n\\n\\n\\n\\n\\n\\n\\n\\n\\n\\n \\n\\n\\n\\n\\n\\n\\n\\n\\n\\n\\nAI Development \\n\\n\\n\\nAI Development Services for Process Optimization \\n\\n\\n\\nOur AI Development Services are at the forefront of innovation. We offer custom AI Development Solutions to meet diverse business requirements. We use AI’s transformative potential to drive efficiency and deliver innovative solutions across various industries.Whether you seek machine learning applications, natural language processing, or computer vision solutions, our AI Development Services are designed to elevate your organization’s capabilities. With a commitment to cutting-edge technology and customized approaches, we empower businesses to thrive in the ever-evolving landscape of AI. \\n\\n\\n\\n\\n\\n\\n\\nChat GPT Integration \\n\\n\\n\\nElevate User Experiences with ChatGPT Integration \\n\\n\\n\\nChat GPT integration- In our AI Development Solutions, we provide Chat GPT integration services. These services involve the seamless integration of the Chat GPT language model into chatbots or messaging platforms. This integration leverages the latest AI new developments to enhance the user experience. It enables the chatbot to generate human-like responses to user inquiries.Whether it’s customer support or virtual assistants our Chat GPT integration services elevate the level of engagement for end-users. Our team of skilled AI specialists ensures that the integration is tailored to your specific goals. This personalized approach ensures that the chatbot’s responses align with your brand identity and messaging strategy. \\n\\n\\n\\n\\n\\n\\n\\n\\n\\n\\n\\nAI Chatbot Development \\n\\n\\n\\nEnhancing Conversational Experiences with AI Chatbots \\n\\n\\n\\nOur AI chatbot development services are designed to revolutionize customer interactions. We specialize in crafting intelligent chatbots that streamline communication and enhance user experiences. Our team utilizes cutting-edge AI technology to create chatbots capable of natural language processing, personalized recommendations, and efficient problem-solving.Whether for customer support, e-commerce, or information retrieval, our AI chatbot software empowers businesses to engage with their audience 24/7. With a commitment to innovation and user satisfaction, we deliver AI chatbot solutions that elevate your brand’s online presence and customer engagement. Experience the future of customer interaction with our AI chatbot services today. \\n\\n\\n\\n\\n\\n\\n\\nMachine & Deep Learning \\n\\n\\n\\nMachine and Deep Learning for Unprecedented Insights \\n \\n\\n\\n\\nMachine and deep learning- We offer the benefits of machine learning (ML) and deep learning (DL). ML enables accurate predictions and data-driven decisions. DL allows for complex pattern recognition and advanced judgments. With our expertise in AI development solutions, we utilize the power of machine and deep learning to create innovative and intelligent systems.Our commitment to excellence in AI development means that we are continually pushing the boundaries of what machine and deep learning can achieve. We create systems that not only solve today’s challenges but also adapt and evolve to meet the evolving needs of our clients. Our expertise in Machine learning services ensures that you stay at the forefront of technological advancement. \\n\\n\\n\\n\\n\\n\\n\\n\\n\\n\\n\\nComputer Vision \\n\\n\\n\\nSeeing the Unseen for a Smarter Tomorrow \\n\\n\\n\\nComputer Vision- Offering Computer Vision services, a field that enables computers to interpret visual information. By analyzing digital photos and videos, our Computer Vision systems identify objects and detect patterns. It uses image processing, pattern recognition, and machine learning techniques.In industries such as healthcare, Computer Vision can aid in the detection of medical conditions through the analysis of medical images like X-rays and MRIs. In retail, it can be used for shelf monitoring and inventory management. Moreover, in security, Computer Vision enhances the ability to detect anomalies and ensure safety. Our expertise in Computer Vision ensures that our clients can use visual data to drive innovation. \\n\\n\\n\\n\\n\\n\\n\\nBig Data Analytics \\n\\n\\n\\nStrategize Smart, See Beyond with Big Data \\n\\n\\n\\nBig Data Analytics- With our AI new developments in Big Data Analytics, we unlock the power of analyzing large and complex datasets. Using specialized tools and techniques, we process, store, and analyze massive amounts of data from diverse sources. Benefit from actionable insights and improved decision-making. Empower your business to stay ahead in a data-driven world.Our team of data scientists ensure that the insights derived from your data are not only accurate but also actionable. We provide customizable dashboards and reports, allowing you to visualize the data that makes sense for your business objectives. Whether you’re in finance or any other sector, our Big Data Analytics services can be tailored to meet your unique needs. \\n\\n\\n\\n\\n\\n\\n\\n\\n\\n\\n\\n\\n\\n\\n\\n\\n\\n\\n\\n\\n\\n\\n\\n\\n\\n \\n\\n\\n\\n\\n\\n\\n\\n\\n\\n\\nAccess Personalized Predictive Insights \\n\\n\\n\\nPredictive Modeling- With our AI Development Services, we offer cutting-edge Predictive Modeling solutions.Our AI and data analysis expertise allows us to develop accurate models that forecast future outcomes. Using advanced algorithms, we assist businesses in making informed decisions and optimizing operations. This empowers them to gain a competitive edge in their respective industries.In addition to forecasting future outcomes, our predictive modeling solutions also help businesses identify potential risks and opportunities.By analyzing historical data and applying machine learning techniques, we can uncoverpatterns that might go unnoticed. This proactive approach enables our clients to mitigate risks before they escalate. \\n\\n\\n\\nPredictive Modelling \\n\\n\\n\\n\\n\\n\\n\\nCustom Software Development \\n\\n\\n\\nAccelerate Business Growth with Custom Software \\n\\n\\n\\nExperience tailored excellence with our custom software development services. We create bespoke solutions that streamline operations and drive innovation, giving your business a competitive edge. Our expertise extends to integrating advanced AI solutions, elevating your software to new heights of efficiency and innovation.Stay ahead in today’s dynamic landscape with our synergy of traditional software development and cutting-edge AI technology. Welcome the future of technology with us! Our integration of these two realms ensures that your software not only meets current needs but is also future-proofed to adapt to emerging technologies. We’re committed to keeping your business at the forefront of innovation. \\n\\n\\n\\n\\n\\n\\n\\n\\n\\n\\n\\nDigital  Marketing \\n\\n\\n\\nPower Your Brand Revolution with Our Digital Marketing \\n\\n\\n\\nIgnite your brand’s digital potential with our comprehensive digital marketing services. We specialize in data-driven strategies and creative campaigns that enhance your online presence. From SEO and social media management to targeted advertising, we tailor our services to your unique goals.Count on us to boost your digital impact.Partnering with us means you can trust in our commitment to delivering measurable results. We provide regular reports and insights into the performance of your digital marketing campaigns, allowing you to see the tangible impact on your brand’s growth. Our goal is to cultivate a loyal online community around your brand, fostering brand advocacy and increasing customer engagement. \\n\\n\\n\\n\\n\\n\\n\\nNatural Language Processing \\n\\n\\n\\nTransform unstructured data into valuable insights \\n \\n\\n\\n\\nNatural Language Processing- We specialize in AI software development solutions, with a strong focus on NLP services. Our expertise lies in developing models for computers to comprehend, interpret, and generate natural language. NLP is applied in diverse areas, including language translation, sentiment analysis, chatbots, speech recognition, and text summarization.As the applications of NLP continue to expand and evolve, our commitment to providing cutting-edge AI software development solutions ensures that our clients remain at the forefront of technological innovation. Our expertise in NLP demonstrates our commitment. We aim to empower businesses in diverse industries with the transformative capabilities of natural language processing. \\n\\n\\n\\n\\n\\n\\n\\n\\n\\n\\n\\nDevOps  \\n\\n\\n\\nDevOps Software for High-Performance Delivery \\n\\n\\n\\nExperience the transformative power of our DevOps software development services, where seamless integration, automation, and AI-powered optimization converge to redefine your software development landscape. We enhance collaboration across teams with CI/CD for rapid responses. Containerization ensures performance consistency and adaptability.What truly sets us apart is our commitment to embracing the future of software development. We infuse AI-powered optimization into every aspect of your software’s lifecycle.Our AI continuously analyzes data, identifying and optimizing performance bottlenecks for peak efficiency. This ensures top software performance, boosting satisfaction and business results. \\n\\n\\n\\n\\n\\n\\n\\nUI & UX \\n\\n\\n\\nCrafting Seamless Digital Experiences \\n\\n\\n\\nTo truly excel in the digital world, it’s essential to have a strong digital presence. Our user interfaces can help you stand out from the competition and leave a lasting impression on your users. We blend creativity and functionality to create interfaces that look stunning and deliver a user experience that keeps users coming back for more.Boost user engagement through our UI UX Design Services. When it comes to mobile app UI/UX design, we are your ultimate destination. We understand that mobile apps have become integral to modern life, and their success hinges on first impressions. Our designs are crafted to shape those crucial first impressions and ultimately contribute to the overall success of your mobile app. \\n\\n\\n\\n\\n\\n\\n\\n\\n\\n\\n\\n\\n\\n\\n\\n\\n\\n\\n\\n\\n\\n\\n\\n\\n \\n\\n\\n\\n\\n\\n\\n\\n\\n\\n\\n\\nWhy Choose Xeven Solutions \\n\\n\\n\\nThis highlights our skills, experience, and quality of work, demonstrating our commitment to excellence. \\n\\n\\n\\n\\n\\n\\n\\n\\nYears of Experience \\n\\n0\\n+\\n\\n\\n\\n\\n\\n\\n\\n\\n\\n\\n\\nHappy Clients \\n\\n0\\n+\\n\\n\\n\\n\\n\\n\\n\\n\\n\\n\\n\\nEmployees \\n\\n0\\n+\\n\\n\\n\\n\\n\\n\\n\\n\\n\\n\\n\\nOffices Around the World \\n0\\n0\\n\\n\\n\\n\\n\\n\\n\\n\\n\\n\\n\\n \\n\\n\\n\\n\\n\\n\\n\\n\\n\\n\\n\\n\\n\\n\\n\\n\\n\\n\\n\\n\\n\\n\\n\\n\\n\\n\\n\\n\\n\\n\\n\\n\\n\\n\\n\\n\\n\\n\\n\\n\\n\\n\\n\\n\\n\\n\\n\\n\\n\\n\\n\\n\\n\\n\\n\\n\\n\\n\\n\\n\\n\\n\\n\\n\\n\\n\\n\\n\\n\\n\\n\\n\\n\\n\\n\\n\\n\\n\\n\\n\\n\\n\\n\\n\\n\\n\\n \\n\\n\\n\\n\\n\\n\\n\\n\\n\\n\\n\\nIndustries We Transformed with Innovative Software Solutions \\n\\n\\n\\n \\n\\n\\n\\n\\t\\t\\t\\t\\t\\t\\tWe are committed to innovating across industries with our custom AI solutions, empowering businesses to thrive in the digital era.\\t\\t\\t\\t\\t\\t\\n\\n\\n\\n\\n\\n\\n\\n\\n\\n\\n\\n\\n\\n\\n\\n\\nHealth Tech \\n\\n\\n\\nRevolutionize healthcare administration by integrating AI-powered EHR or mHealth solutions to manage patient records and workflows seamlessly. \\n\\n\\n\\n\\n\\n\\n\\n \\nRead More\\n\\n\\n\\n\\n\\n\\n\\n \\n\\n\\n\\n\\n\\n\\n\\n\\nEd Tech \\n\\n\\n\\nSay goodbye to paperwork, personalize teaching approaches, lower operating costs, and broaden your market scope with e-learning platforms. \\n\\n\\n\\n\\n\\n\\n\\n \\nRead More\\n\\n\\n\\n\\n\\n\\n\\n \\n\\n\\n\\n\\n\\n\\n\\n\\nRetail \\n\\n\\n\\nBuild innovative systems with modern technology and data analytics for efficient inventory and supply chain management for streamlined operations. \\n\\n\\n\\n\\n\\n\\n\\n \\nRead More\\n\\n\\n\\n\\n\\n\\n\\n \\n\\n\\n\\n\\n\\n\\n\\n\\nAI Diagnostics \\n\\n\\n\\nDevelop AI solutions to enhance diagnostic precision and efficiency, like creating image recognition software tailored for analyzing medical scans. \\n\\n\\n\\n\\n\\n\\n\\n \\nRead More\\n\\n\\n\\n\\n\\n\\n\\n \\n\\n\\n\\n\\n\\n\\n\\n\\n\\n\\n\\n\\nGreen Tech \\n\\n\\n\\nReduce carbon emissions, optimize energy usage, and streamline the waste management process with the help of transformative custom AI solutions. \\n\\n\\n\\n\\n\\n\\n\\n \\nRead More\\n\\n\\n\\n\\n\\n\\n\\n \\n\\n\\n\\n\\n\\n\\n\\n\\nIoT \\n\\n\\n\\nTransform industrial operations by developing revolutionary IoT solutions for real-time equipment monitoring and automated inventory management. \\n\\n\\n\\n\\n\\n\\n\\n \\nRead More\\n\\n\\n\\n\\n\\n\\n\\n \\n\\n\\n\\n\\n\\n\\n\\n\\nFin Tech \\n\\n\\n\\nElevate your financial ventures by automating, scaling, and securing your business operations or launching pioneering Fintech products quickly. \\n\\n\\n\\n\\n\\n\\n\\n \\nRead More\\n\\n\\n\\n\\n\\n\\n\\n \\n\\n\\n\\n\\n\\n\\n\\n\\nHIPAA Compliance  \\n\\n\\n\\nEnsure HIPAA compliance with our AI solutions to protect the privacy and integrity of patient health information, prioritizing security measures. \\n\\n\\n\\n\\n\\n\\n\\n \\nRead More\\n\\n\\n\\n\\n\\n\\n\\n \\n\\n\\n\\n\\n\\n\\n\\n\\n\\n\\n\\n\\n\\n\\n\\nOur Client-Centric AI Solutions \\n\\n\\n\\n \\n\\n\\n\\n \\n\\n\\n\\n  AI-Powered HIMS\\n\\n\\n\\n\\n  GP-Pod\\n\\n\\n\\n\\n  AI-Powered Law GPT\\n\\n\\n\\n\\n\\n\\nAI-Powered Hospital Information Management SystemOne of our esteemed clients required a Hospital Information Management System (HIMS) to overcome challenges, including high costs, medical staff shortages, and security risks, all impacting patient care and efficiency.Xeven Solutions delivered an AI-powered Hospital Information Management System that makes hospital tasks smoother, simplifies record management, and automates scheduling to ensure top-notch patient care and smooth operations.Read More \\n\\n\\n\\nPatient Diagnostic System – GP PODA US-based organization required a Patient Diagnostic System to streamline patient management processes. Xeven Solutions delivered a custom AI-powered Patient Diagnostic System (GP POD) that significantly improved accuracy, streamlined workflows, reduced costs, and enhanced patient satisfaction, empowering healthcare professionals.Our collaboration enhanced healthcare delivery through resource optimization and a patient-centric approach.Read More \\n\\n\\n\\nAI-Powered Law GPTOur renowned UK-based client faced challenges with data overload and time-consuming tasks, struggling to centralize legal information in one place. Xeven Solutions partnered with them, providing an AI-powered Law GPT solution that alleviates legal professionals’ burdens by streamlining tasks, ensuring compliance, and earlier risk mitigation.LawGPT provides cost-effective legal support, offering a comprehensive solution to the challenges faced by our client.Read More \\n\\n\\n\\n \\n\\n\\n\\n\\n\\n\\n\\n\\n\\n\\n\\nElevating Excellence: Insights into our work \\n\\n\\n\\n\\t\\t\\t\\t\\t\\t\\tUnveil a Deeper Understanding of Our Commitment to Excellence.\\t\\t\\t\\t\\t\\t\\n\\n\\n\\n\\n\\n\\n\\n\\n\\n\\n\\n \\n\\n\\n\\n\\n\\n\\n\\n\\n\\n\\nAI Contract Analyzer \\n\\n\\n\\n \\n\\n\\n\\n\\n\\n\\n\\n\\n\\n\\n\\nProject Glimpse: \\n\\n\\n\\nThis contract analysis software streamlining agreement management, accelerating reviews, enhancing negotiations, and reduce risks. \\n\\n\\n\\nThe Challenge: \\n\\n\\n\\n\\t\\t\\t\\t\\t\\t\\tManual agreements are prone to errors, slow, costly. Embrace AI tool for efficient, risk-aware management, ensure guideline compliance for managing contracts.\\t\\t\\t\\t\\t\\t\\n\\n\\n\\nOur unique approach: \\n\\n\\n\\n\\t\\t\\t\\t\\t\\t\\tThis contract analysis software automatically extracts key info, identifies critical clauses, provides risk and compliance insights, also offering centralized contract management.\\t\\t\\t\\t\\t\\t\\n\\n\\n\\n\\n\\n\\n\\n \\nRead More\\n\\n\\n\\n\\n\\n\\n\\n\\n\\n\\n\\n\\n\\n\\n\\n\\n\\n\\n\\n\\n\\n\\n\\n\\n\\n\\n\\n\\n\\n \\n\\n\\n\\n\\n\\n\\n\\n\\n\\n\\nAI-powered recruitment App \\n\\n\\n\\n \\n\\n\\n\\n\\n\\n\\n\\n\\n\\n\\n\\nProject Glimpse: \\n\\n\\n\\nRecruitment App makes hiring easier by collecting data to find the best job matches. It saves time by streamlining the whole process. \\n\\n\\n\\nThe Challenge: \\n\\n\\n\\nTraditional hiring methods are slow, lack good candidates, and can be biased, expensive, and unfair. \\n\\n\\n\\nOur unique approach: \\n\\n\\n\\nAI recruiting app streamlines hiring, promotes diversity, and reduces bias, helping companies build better teams. \\n\\n\\n\\n\\n\\n\\n\\n \\nRead More\\n\\n\\n\\n\\n\\n\\n\\n\\n\\n\\n\\n\\n\\n\\n\\n\\n\\n\\n\\n\\n\\n\\n\\n\\n\\n\\n\\n\\n\\n \\n\\n\\n\\n\\n\\n\\n\\n\\n\\n\\nAI Medical Content Creator \\n\\n\\n\\n \\n\\n\\n\\n\\n\\n\\n\\n\\n\\n\\n\\nProject Glimpse: \\n\\n\\n\\nMedical Blog Creator app uses AI to help doctors, nurses, and other healthcare workers easily make new health-related blog posts. \\n\\n\\n\\nThe Challenge: \\n\\n\\n\\nMedical bloggers need help creating new posts quickly. Research and writing quality posts with catchy titles on topics can be challenging. \\n\\n\\n\\nOur unique approach: \\n\\n\\n\\nMedical Blog Creator app can help doctors, nurses, and other medical writers. It uses artificial intelligence to assist them in writing in different ways. \\n\\n\\n\\n\\n\\n\\n\\n \\nRead More\\n\\n\\n\\n\\n\\n\\n\\n\\n\\n\\n\\n\\n\\n\\n\\n\\n\\n\\n\\n\\n\\n\\n\\n\\n\\n\\n\\n\\n\\n \\n\\n\\n\\n\\n\\n\\n\\n\\n\\n\\nAI Medical Content Creator \\n\\n\\n\\n \\n\\n\\n\\n\\n\\n\\n\\n\\n\\n\\n\\nProject Glimpse: \\n\\n\\n\\nMedical Blog Creator app uses AI to help doctors, nurses, and other healthcare workers easily make new health-related blog posts. \\n\\n\\n\\nThe Challenge: \\n\\n\\n\\nMedical bloggers need help creating new posts quickly. Research and writing quality posts with catchy titles on topics can be challenging. \\n\\n\\n\\nOur unique approach: \\n\\n\\n\\nMedical Blog Creator app can help doctors, nurses, and other medical writers. It uses artificial intelligence to assist them in writing in different ways. \\n\\n\\n\\n\\n\\n\\n\\n \\nRead More\\n\\n\\n\\n\\n\\n\\n\\n\\n\\n\\n\\n\\n\\n\\n\\n\\n\\n\\n\\n\\n\\n\\n\\n\\n\\n\\n\\n\\n \\n\\n\\n\\n \\n\\n\\n\\n\\n\\n\\n\\n\\n\\n\\n\\nOur Proven Approach to Achieve Your Objectives \\n\\n\\n\\n\\t\\t\\t\\t\\t\\t\\tAchieve your business goals with our successful Xeven Methodology, renowned for its structured planning and consistent results.\\t\\t\\t\\t\\t\\t\\n\\n\\n\\n\\n\\n\\n\\n \\n\\n\\n\\n \\n\\n\\n\\n\\t\\t\\t\\t\\t\\t\\tStep 1\\t\\t\\t\\t\\t\\t\\n\\n\\n\\nUnderstand pattern identification \\n\\n\\n\\n\\t\\t\\t\\t\\t\\t\\tXeven Methodology revolves around understanding pattern identification. It involves analyzing data to identify and extract significant patterns.\\t\\t\\t\\t\\t\\t\\n\\n\\n\\n\\n\\n\\n\\n \\n\\n\\n\\n \\n\\n\\n\\n\\t\\t\\t\\t\\t\\t\\tStep 2\\t\\t\\t\\t\\t\\t\\n\\n\\n\\nPattern mapping user stories \\n\\n\\n\\n\\t\\t\\t\\t\\t\\t\\tPattern mapping user stories is the second step in Xeven Methodology. It involves categorizing user stories according to recognized patterns.\\t\\t\\t\\t\\t\\t\\n\\n\\n\\n\\n\\n\\n\\n \\n\\n\\n\\n \\n\\n\\n\\n\\t\\t\\t\\t\\t\\t\\tStep 3\\t\\t\\t\\t\\t\\t\\n\\n\\n\\nWireframe and front end \\n\\n\\n\\nAfter pattern mapping, Our dedicated team creates wireframes and front-end designs. They align with the identified patterns and user stories. \\n\\n\\n\\n\\n\\n\\n\\n \\n\\n\\n\\n \\n\\n\\n\\n\\t\\t\\t\\t\\t\\t\\tStep 4\\t\\t\\t\\t\\t\\t\\n\\n\\n\\nModel development and training \\n\\n\\n\\n\\t\\t\\t\\t\\t\\t\\tModel development and training involves the development of machine learning models and training using the identified patterns and data.\\n\\t\\t\\t\\t\\t\\t\\n\\n\\n\\n\\n\\n\\n\\n \\n\\n\\n\\n\\t\\t\\t\\t\\t\\t\\tStep 5\\t\\t\\t\\t\\t\\t\\n\\n\\n\\nDevelopment and deployment \\n\\n\\n\\n\\t\\t\\t\\t\\t\\t\\tDevelopment and deployment is the final step in Xeven Methodology. The developed models are integrated into the software and deployed for use.\\t\\t\\t\\t\\t\\t\\n\\n\\n\\n\\n\\n\\n\\n \\n\\n\\n\\n\\n\\n\\n\\n\\n\\n\\n\\nMeet Xeven Solutions Leadership \\n\\n\\n\\n\\n\\n\\n\\n\\n\\n\\n\\n\\n\\n\\n\\n\\n                Dr. Sheraz Naseer                            \\n\\nHead of AI Department \\n\\n\\n\\n\\n\\n\\n\\n\\n\\n\\n\\n\\n                Prof. Dr. Javed Iqbal                            \\n\\nHealthcare SME \\n\\n\\n\\n\\n\\n\\n\\n\\n\\n\\n\\n\\n                Yasir Bucha                            \\n\\nStrategic Advisor \\n\\n\\n\\n\\n\\n\\n\\n\\n\\n\\n\\n\\n                Ayaz Qaiser                            \\n\\n                CTO            \\n\\n\\n\\n\\n\\n\\n\\n\\n\\n\\n\\n\\n                Irfan Malik                            \\n\\nFounder & CEO \\n\\n\\n\\n\\n\\n\\n\\n\\n\\n\\n\\n\\n\\n\\n\\n\\n\\n\\n\\n\\n\\n\\n \\n\\n\\n\\n\\n\\n\\n\\n\\n\\n\\n\\nIndustry Experts Commend our Work \\n\\n\\n\\n \\n\\n\\n\\n\\t\\t\\t\\t\\t\\t\\tSeveral platforms and industry experts have acknowledged our seasoned engineers’ technical proficiency in various domains.\\t\\t\\t\\t\\t\\t\\n\\n\\n\\n\\n\\n\\n\\n\\n\\n \\n\\n\\n\\n\\n\\n\\n\\n\\n\\n\\n\\n\\n\\n\\nDon't just take our words for it – Take theirs!\\n \\n\\n\\n\\n\\n\\n\\n\\n\\n\\n\\n\\n\\n\\t\\t\\t\\tBill Kilpatrick\\t\\t\\t\\n\\n\\t\\t\\t\\tCEO of Drive\\t\\t\\t\\n\\nThis is a stellar team! I have assigned new contracts to them for several years. A joy to work with. Smart people. Good people. Honest. Hard working. Excellent results. \\n\\n\\n\\n\\n\\n\\n\\n\\n\\t\\t\\t\\tKate Callahan\\t\\t\\t\\n\\n\\t\\t\\t\\tPresident of Memore \\t\\t\\t\\n\\n\\t\\t\\t\\tThe collaboration has been amazing. Flexible and accommodating of scope changes, the team is quick to accommodate requests and answer questions. They continue to deliver high-quality work at a competitive price.\\t\\t\\t\\n\\n\\n\\n\\n\\n\\n\\n\\n\\t\\t\\t\\tAram Saffarian\\t\\t\\t\\n\\n\\t\\t\\t\\tPresident of Treaty Health\\t\\t\\t\\n\\n\\t\\t\\t\\tXeven Solutions has improved the client’s existing app. Xeven Solutions utilizes their expertise to deliver comprehensive, user-friendly solutions. Their team manages projects well and has excellent documentation processes and communication.\\t\\t\\t\\n\\n\\n\\n\\n\\n\\n\\n\\n\\t\\t\\t\\tJeff Moye\\t\\t\\t\\n\\n\\t\\t\\t\\tFounder of Moye\\t\\t\\t\\n\\nThe Xeven Solutions team has finished 2/3 of the project and completed every milestone so far. Their workflow is good; their members communicate regularly through Zoom, and they collaborate well with the client via GitHub, Jira, and Slack. They solve problems fast and deliver information on time. \\n\\n\\n\\n\\n\\n\\n\\n\\n\\n\\n\\n\\n\\n\\n \\n\\n\\n\\n\\n\\n\\n\\n\\n\\n\\n\\nBlogs & Articles \\n\\n\\n\\n\\n\\n\\n\\n \\n\\n\\n\\n\\n\\n\\n\\n\\n\\n\\n\\n\\n\\t\\t\\t\\t\\t\\t\\t\\t\\t\\t\\tSeptember 16, 2024\\t\\t\\t\\t\\t\\t\\t\\t\\t\\t\\n\\n\\n\\n\\n\\t\\t\\t\\t\\t\\tTop 7 Benefits of EHR Systems in Healthcare for Providers and Patients\\t\\t\\t\\t\\t\\n\\nIn 2024, we can see the ways of delivering healthcare have completely changed. The major reason behind this is the adoption of modern healthcare systems.…\\n\\n\\n                                            Read More                                              \\n\\n\\n\\n\\n\\n \\n\\n\\n\\n\\n\\n\\n\\n \\n\\n\\n\\n\\n\\n\\n\\n\\n\\n\\n\\t\\t\\t\\t\\t\\tTop 6 Must-Have Features of Electronic Health…\\t\\t\\t\\t\\t\\n\\nToday, we see what technological advancements can do in sectors…\\n\\n\\n                                            Read more                                              \\n\\n\\n\\n\\n\\n\\n\\n\\n\\n\\n\\n\\n\\n\\n\\t\\t\\t\\t\\t\\tSearchGPT SEO: The Marketer’s Guide to AI…\\t\\t\\t\\t\\t\\n\\nThe world of search is evolving rapidly with the emergence…\\n\\n\\n                                            Read more                                              \\n\\n\\n\\n\\n\\n\\n\\n\\n\\n\\n\\n\\n\\n\\n\\t\\t\\t\\t\\t\\tUnderstanding Hospital Billing: How It Works &…\\t\\t\\t\\t\\t\\n\\nIf you think that hospital billing is as simple as…\\n\\n\\n                                            Read more                                              \\n\\n\\n\\n\\n\\n \\n\\n\\n\\n\\n\\n\\n\\n \\n\\n\\n\\n\\n\\n\\n\\n\\n\\n\\n\\nFrequently Asked Questions \\n\\n\\n\\n \\n\\nWhat type of services do Xeven Solutions offer?  \\n\\n\\nXeven Solutions offers a wide array of services a business needs, including AI Development Services, AI Chatbot Development services, Machine Learning Development Services, Mobile App Development, ChatGPT integration, DevOps, UI/UX Design, Web Development, and Digital Marketing Solutions. \\n\\n\\n\\n\\nDo Xeven Solutions offer post-development support?  \\n\\n\\nXeven Solutions offers comprehensive post-development support for all services, including AI Development, Digital Marketing, Mobile App Development, UI/UX Design, Custom Software Development, etc. We ensure your solutions run smoothly and efficiently after the initial development phase. \\n\\n\\n\\n\\nCan AI technology help us make better decisions?  \\n\\n\\n                                        AI technologies can help businesses make well-informed decisions. AI services, such as Machine Learning, can significantly enhance decision-making processes. Our AI solutions empower you to make data-driven decisions by analyzing data and generating insights.                                    \\n\\n\\n\\n\\nHow do I choose the right AI Chatbot development company for my business?  \\n\\n\\nChoosing the right AI Chatbot development company is crucial. Consider factors such as their expertise in AI Chatbot Development, AI software development company reputation, post-development support, and cost. Ensure their offerings align with your specific needs. \\n\\n\\n\\n\\nWhy choose Xeven Solutions as your AI development company?  \\n\\n\\nXeven Solutions is a leading AI development company that has several accolades to its name across various domains. Our seasoned team of developers is committed to excellence and specializes in Mobile App Development, DevOps Services, Big Data Analytics, Chatbot Integration Services, and more. With a focus on innovation, we deliver AI solutions that consistently yield impactful results. \\n\\n\\n\\n\\nHow are Xeven Solutions developers different?  \\n\\n\\nXeven Solutions developers are hardworking, dedicated, and domain experts. Our developers specialize in Computer Vision, Mobile App Development, AI Development, etc. Moreover, they prioritize transparency and open communication with their clients, fostering a collaborative environment where ideas freely flow. \\n\\n\\n\\n\\nWhat type of custom AI solutions does Xeven Solutions offer?  \\n\\n\\nXeven Solutions provides various custom AI solutions, including AI Development Services, AI Chatbot Development services, NLP Services, and Machine Learning Development Services. Our expertise extends to ChatGPT integration services, offering cutting-edge AI development solutions tailored to your business needs. \\n\\n\\n\\n\\nWhich software is best for mobile app development?  \\n\\n\\nThe choice of the best software for mobile app development depends on several crucial factors, including project requirements, platform, budget, etc. Consult our industry experts for guidance on selecting the most suitable tools and technologies for your Custom Mobile App Development project. \\n\\n\\n\\n\\nWhy are UI/UX services important?  \\n\\n\\nUI/UX services are vital because they directly impact user satisfaction. Our UI UX design Services ensure that your digital products are visually appealing but also intuitive and user-friendly, enhancing the overall user experience. \\n\\n\\n\\n\\nWould my business benefit from digital marketing services?  \\n\\n\\nHundreds of businesses are getting benefits from Digital Marketing Services. We help businesses reach their targeted audience, enhance their online presence, drive traffic, and convert leads into customers, ultimately growing their visibility and revenue. \\n\\n\\n\\n\\nWill Xeven Solutions do custom web development work?  \\n\\n\\nXeven Solutions offers Custom Web Development Services specifically designed to benefit businesses. Our dedicated team utilizes modern technologies and a proven approach to ensure that websites are aligned perfectly with your business goals and brand identity. \\n\\n\\n\\n\\nWhat are the benefits of DevOps implementation?  \\n\\n\\nImplementing DevOps brings numerous benefits to businesses, including faster time-to-market, improved collaboration between teams, cost-effectiveness, and increased system stability. It streamlines processes and enhances overall efficiency. \\n\\n\\n\\n\\nHow much does it cost to build custom software?  \\n\\n\\nBuilding custom software costs vary based on project complexity, technology stack, maintenance, and project features. Xeven Solutions offers affordable Custom Software Development Services for businesses to stay competitive in today's dynamic market. \\n\\n\\n \\n\\n\\n\\n \\n\\n\\n\\n\\n\\n\\n\\n\\n\\n\\n\\n\\n\\n\\n\\n\\n\\n\\n\\n\\n \\n\\n\\n\\n\\nShaping technology for the future \\n\\n\\n\\n\\n\\n\\nFacebook\\n \\n\\n\\n\\nLinkedin\\n \\n\\n\\n\\nInstagram\\n \\n\\n\\n\\n\\nx-twitter-svg \\n\\n\\n\\nYoutube\\n \\n\\n\\n\\n\\n\\n\\n\\n\\n\\n\\nServices \\n\\n\\n\\n\\n\\n\\nPredictive Modelling\\u200b\\n\\n\\n\\n\\nChat GPT Integration\\n\\n\\n\\n\\nNatural Language Processing\\n\\n\\n\\n\\nMachine Learning\\n\\n\\n\\n\\nComputer Vision\\n\\n\\n\\n\\nBig Data Analytics\\n\\n\\n\\n\\n\\n\\n\\n\\n\\n\\n\\nGet In Touch \\n\\n\\n\\n\\n\\n\\n\\n \\n+12678000191\\n\\n\\n\\n\\n\\n \\ninfo@xevensolutions.com\\n\\n\\n\\n\\n\\n\\n\\n\\n\\n\\n\\n \\nUnited Arab Emirates\\n\\n\\n\\n\\n\\n \\nPakistan\\n\\n\\n\\n\\n\\n \\nUnited Kingdom\\n\\n\\n\\n\\n\\n \\nUnited States\\n\\n\\n\\n\\n\\n\\n\\n\\n\\n\\n\\nJoin Our Newsletter \\n\\n\\n\\n\\n\\n \\n\\n\\n\\n\\n\\n\\n\\n\\n\\n\\n\\n\\n\\n\\n\\n\\n\\n\\n\\n\\n\\n\\n\\n\\n\\n\\n\\n\\n\\n\\n\\n2024 © Xeven Solutions. All rights reserved. \\n\\n\\n\\n\\n\\n\\n\\n\\n\\n\\nCareer\\n\\n\\n\\n\\nPrivacy Policy\\n\\n\\n\\n\\n\\n\\n\\n\\n\\n\\n\\n\\n\\n\\n\\n\\n\\n\\n\\nJoin Our Community\\nSign Up for Exclusive Newsletter\\n\\n\\n \\n\\n\\n\\n\\n\\n\\n\\n\\n\\n\\n\\n\\n\\n\\n\\n\\n\\n\\n\\n\\n\\n\\n\\n\\n\\nThe owner of this website has made a commitment to accessibility and inclusion, please report any problems that you encounter using the contact form on this website. This site uses the WP ADA Compliance Check plugin to enhance accessibility.\\n\\n\\n\\n\\n\\n\\n\\n\\n\\n\\n\\n\\nLive Chat\\n\\n\\n\\n\\n\\n\\n\\n\\n\\n\\n\\n\\n \\n\\n\\n\\n\\n\\n\\n\\n\\n\\n\\n\\n\\n\\n\\n\\n\\n\\n\\n\\n\\n\\n\\n\\n\\n\\n\\n\\n\\n\\n\\n\\n\\n\\n\\n\\n\\n\\n\\n\\n\\n\\n\\n\\n\\n\\n\\n\\n\\n\\n\\n\\n\\n\\n\\n\\n\\n\\n\\n\\n\\n\\n\\n\")]"
            ]
          },
          "metadata": {},
          "execution_count": 56
        }
      ]
    },
    {
      "cell_type": "code",
      "source": [
        "print(docs[0].metadata)"
      ],
      "metadata": {
        "colab": {
          "base_uri": "https://localhost:8080/"
        },
        "id": "Cm1al6rm48s7",
        "outputId": "e7056390-d52a-4428-ccea-dfb5c72e762f"
      },
      "execution_count": 57,
      "outputs": [
        {
          "output_type": "stream",
          "name": "stdout",
          "text": [
            "{'source': 'https://www.xevensolutions.com/', 'title': 'Xeven Solutions - AI Development & Solutions Company', 'description': 'Xeven Solutions is a leading AI Development & Solutions Company providing custom AI-based software services to automate workflow and boost innovation.', 'language': 'en-US'}\n"
          ]
        }
      ]
    },
    {
      "cell_type": "code",
      "source": [
        "print(docs[0].page_content[:500])"
      ],
      "metadata": {
        "colab": {
          "base_uri": "https://localhost:8080/"
        },
        "id": "PlbgGXux5dgJ",
        "outputId": "83b005e9-b701-490f-fd2b-41fb2229da61"
      },
      "execution_count": 58,
      "outputs": [
        {
          "output_type": "stream",
          "name": "stdout",
          "text": [
            "\n",
            "\n",
            "\n",
            "\n",
            "\n",
            "\n",
            "\n",
            "Xeven Solutions - AI Development & Solutions Company\n",
            "\n",
            "\n",
            "\n",
            "\n",
            "\n",
            "\n",
            "\n",
            "\n",
            "\n",
            "\n",
            "\n",
            "\n",
            "\n",
            "\n",
            "\n",
            "\n",
            "\n",
            "\n",
            "\n",
            "\n",
            "\n",
            "\n",
            "\n",
            "\n",
            "\n",
            "\n",
            "\n",
            "\n",
            "\n",
            "\n",
            "\n",
            "\n",
            "\n",
            "\n",
            "\n",
            "\n",
            "\n",
            "\n",
            "\n",
            "\n",
            "\n",
            "\n",
            "\n",
            "\n",
            "\n",
            "\n",
            "\n",
            "\n",
            "\n",
            "\n",
            "\n",
            "\n",
            "\n",
            "\n",
            "\n",
            "\n",
            "\n",
            "\n",
            "\n",
            "\n",
            "\n",
            "\n",
            "\n",
            "\n",
            "\n",
            "\n",
            "\n",
            "\n",
            "\n",
            "\n",
            "\n",
            "\n",
            "\n",
            "\n",
            "\n",
            "\n",
            "\n",
            "\n",
            "\n",
            "\n",
            "\n",
            "\n",
            "\n",
            "\n",
            "\n",
            "\n",
            " \n",
            "\n",
            "\n",
            "\n",
            "\n",
            "\n",
            " \n",
            "\n",
            "\n",
            "\n",
            "\n",
            "\n",
            "\n",
            "\n",
            "\n",
            " \n",
            "\n",
            "\n",
            "Services\n",
            "\n",
            "AI Development Services AI Chatbot Development Predictive Modelling​ Mobile App Development Chat GPT Integrations Custom Software Natural Language Processing Digital Marketing Machine Learning DevOps Computer Vision​ Custom Web Development Staff Augmentation UI UX Design\n",
            "\n",
            "Salesforce\n",
            "Industries\n",
            "\n",
            "HealthTech EdTech FinTech G\n"
          ]
        }
      ]
    },
    {
      "cell_type": "code",
      "source": [],
      "metadata": {
        "id": "KXlBnaYO5nkg"
      },
      "execution_count": 58,
      "outputs": []
    }
  ]
}
{
  "nbformat": 4,
  "nbformat_minor": 0,
  "metadata": {
    "colab": {
      "provenance": [],
      "gpuType": "T4"
    },
    "kernelspec": {
      "name": "python3",
      "display_name": "Python 3"
    },
    "language_info": {
      "name": "python"
    },
    "accelerator": "GPU"
  },
  "cells": [
    {
      "cell_type": "code",
      "execution_count": 130,
      "metadata": {
        "colab": {
          "base_uri": "https://localhost:8080/"
        },
        "id": "lgD7CN1QJPXP",
        "outputId": "d76fa6af-c151-4995-bd77-675eb1925113"
      },
      "outputs": [
        {
          "output_type": "stream",
          "name": "stdout",
          "text": [
            "Requirement already satisfied: openai in /usr/local/lib/python3.10/dist-packages (1.48.0)\n",
            "Requirement already satisfied: langchain in /usr/local/lib/python3.10/dist-packages (0.3.1)\n",
            "Requirement already satisfied: anyio<5,>=3.5.0 in /usr/local/lib/python3.10/dist-packages (from openai) (3.7.1)\n",
            "Requirement already satisfied: distro<2,>=1.7.0 in /usr/lib/python3/dist-packages (from openai) (1.7.0)\n",
            "Requirement already satisfied: httpx<1,>=0.23.0 in /usr/local/lib/python3.10/dist-packages (from openai) (0.27.2)\n",
            "Requirement already satisfied: jiter<1,>=0.4.0 in /usr/local/lib/python3.10/dist-packages (from openai) (0.5.0)\n",
            "Requirement already satisfied: pydantic<3,>=1.9.0 in /usr/local/lib/python3.10/dist-packages (from openai) (2.9.2)\n",
            "Requirement already satisfied: sniffio in /usr/local/lib/python3.10/dist-packages (from openai) (1.3.1)\n",
            "Requirement already satisfied: tqdm>4 in /usr/local/lib/python3.10/dist-packages (from openai) (4.66.5)\n",
            "Requirement already satisfied: typing-extensions<5,>=4.11 in /usr/local/lib/python3.10/dist-packages (from openai) (4.12.2)\n",
            "Requirement already satisfied: PyYAML>=5.3 in /usr/local/lib/python3.10/dist-packages (from langchain) (6.0.2)\n",
            "Requirement already satisfied: SQLAlchemy<3,>=1.4 in /usr/local/lib/python3.10/dist-packages (from langchain) (2.0.35)\n",
            "Requirement already satisfied: aiohttp<4.0.0,>=3.8.3 in /usr/local/lib/python3.10/dist-packages (from langchain) (3.10.5)\n",
            "Requirement already satisfied: async-timeout<5.0.0,>=4.0.0 in /usr/local/lib/python3.10/dist-packages (from langchain) (4.0.3)\n",
            "Requirement already satisfied: langchain-core<0.4.0,>=0.3.6 in /usr/local/lib/python3.10/dist-packages (from langchain) (0.3.6)\n",
            "Requirement already satisfied: langchain-text-splitters<0.4.0,>=0.3.0 in /usr/local/lib/python3.10/dist-packages (from langchain) (0.3.0)\n",
            "Requirement already satisfied: langsmith<0.2.0,>=0.1.17 in /usr/local/lib/python3.10/dist-packages (from langchain) (0.1.128)\n",
            "Requirement already satisfied: numpy<2,>=1 in /usr/local/lib/python3.10/dist-packages (from langchain) (1.26.4)\n",
            "Requirement already satisfied: requests<3,>=2 in /usr/local/lib/python3.10/dist-packages (from langchain) (2.32.3)\n",
            "Requirement already satisfied: tenacity!=8.4.0,<9.0.0,>=8.1.0 in /usr/local/lib/python3.10/dist-packages (from langchain) (8.5.0)\n",
            "Requirement already satisfied: aiohappyeyeballs>=2.3.0 in /usr/local/lib/python3.10/dist-packages (from aiohttp<4.0.0,>=3.8.3->langchain) (2.4.0)\n",
            "Requirement already satisfied: aiosignal>=1.1.2 in /usr/local/lib/python3.10/dist-packages (from aiohttp<4.0.0,>=3.8.3->langchain) (1.3.1)\n",
            "Requirement already satisfied: attrs>=17.3.0 in /usr/local/lib/python3.10/dist-packages (from aiohttp<4.0.0,>=3.8.3->langchain) (24.2.0)\n",
            "Requirement already satisfied: frozenlist>=1.1.1 in /usr/local/lib/python3.10/dist-packages (from aiohttp<4.0.0,>=3.8.3->langchain) (1.4.1)\n",
            "Requirement already satisfied: multidict<7.0,>=4.5 in /usr/local/lib/python3.10/dist-packages (from aiohttp<4.0.0,>=3.8.3->langchain) (6.1.0)\n",
            "Requirement already satisfied: yarl<2.0,>=1.0 in /usr/local/lib/python3.10/dist-packages (from aiohttp<4.0.0,>=3.8.3->langchain) (1.11.1)\n",
            "Requirement already satisfied: idna>=2.8 in /usr/local/lib/python3.10/dist-packages (from anyio<5,>=3.5.0->openai) (3.10)\n",
            "Requirement already satisfied: exceptiongroup in /usr/local/lib/python3.10/dist-packages (from anyio<5,>=3.5.0->openai) (1.2.2)\n",
            "Requirement already satisfied: certifi in /usr/local/lib/python3.10/dist-packages (from httpx<1,>=0.23.0->openai) (2024.8.30)\n",
            "Requirement already satisfied: httpcore==1.* in /usr/local/lib/python3.10/dist-packages (from httpx<1,>=0.23.0->openai) (1.0.5)\n",
            "Requirement already satisfied: h11<0.15,>=0.13 in /usr/local/lib/python3.10/dist-packages (from httpcore==1.*->httpx<1,>=0.23.0->openai) (0.14.0)\n",
            "Requirement already satisfied: jsonpatch<2.0,>=1.33 in /usr/local/lib/python3.10/dist-packages (from langchain-core<0.4.0,>=0.3.6->langchain) (1.33)\n",
            "Requirement already satisfied: packaging<25,>=23.2 in /usr/local/lib/python3.10/dist-packages (from langchain-core<0.4.0,>=0.3.6->langchain) (24.1)\n",
            "Requirement already satisfied: orjson<4.0.0,>=3.9.14 in /usr/local/lib/python3.10/dist-packages (from langsmith<0.2.0,>=0.1.17->langchain) (3.10.7)\n",
            "Requirement already satisfied: annotated-types>=0.6.0 in /usr/local/lib/python3.10/dist-packages (from pydantic<3,>=1.9.0->openai) (0.7.0)\n",
            "Requirement already satisfied: pydantic-core==2.23.4 in /usr/local/lib/python3.10/dist-packages (from pydantic<3,>=1.9.0->openai) (2.23.4)\n",
            "Requirement already satisfied: charset-normalizer<4,>=2 in /usr/local/lib/python3.10/dist-packages (from requests<3,>=2->langchain) (3.3.2)\n",
            "Requirement already satisfied: urllib3<3,>=1.21.1 in /usr/local/lib/python3.10/dist-packages (from requests<3,>=2->langchain) (2.2.3)\n",
            "Requirement already satisfied: greenlet!=0.4.17 in /usr/local/lib/python3.10/dist-packages (from SQLAlchemy<3,>=1.4->langchain) (3.1.1)\n",
            "Requirement already satisfied: jsonpointer>=1.9 in /usr/local/lib/python3.10/dist-packages (from jsonpatch<2.0,>=1.33->langchain-core<0.4.0,>=0.3.6->langchain) (3.0.0)\n"
          ]
        }
      ],
      "source": [
        "!pip install openai langchain"
      ]
    },
    {
      "cell_type": "code",
      "source": [
        "from langchain.text_splitter import RecursiveCharacterTextSplitter,CharacterTextSplitter"
      ],
      "metadata": {
        "id": "ICxa2GsGKm2i"
      },
      "execution_count": 131,
      "outputs": []
    },
    {
      "cell_type": "code",
      "source": [
        "chunk_size=26\n",
        "over_lap=4"
      ],
      "metadata": {
        "id": "vJ1FxNEJLbwo"
      },
      "execution_count": 132,
      "outputs": []
    },
    {
      "cell_type": "code",
      "source": [
        "c_splitter=CharacterTextSplitter(\n",
        "    chunk_size=chunk_size,\n",
        "    separator=\"\",\n",
        "    chunk_overlap=over_lap\n",
        ")\n",
        "\n",
        "r_splitter=RecursiveCharacterTextSplitter(\n",
        "    chunk_size=chunk_size,\n",
        "    # separator=[\"\\n\",\"\\n\\n\",\" \",\"\"],\n",
        "    chunk_overlap=over_lap\n",
        ")"
      ],
      "metadata": {
        "id": "eR34GOqALk6E"
      },
      "execution_count": 133,
      "outputs": []
    },
    {
      "cell_type": "code",
      "source": [
        "text1='abcdefghijklmnopqrstuvwxyz'"
      ],
      "metadata": {
        "id": "6-cEEhrQPrZf"
      },
      "execution_count": 134,
      "outputs": []
    },
    {
      "cell_type": "code",
      "source": [
        "text1"
      ],
      "metadata": {
        "colab": {
          "base_uri": "https://localhost:8080/",
          "height": 36
        },
        "id": "ElsWc9K4QVSc",
        "outputId": "7e7be70a-1487-4af2-bb3b-e5b8156200d9"
      },
      "execution_count": 135,
      "outputs": [
        {
          "output_type": "execute_result",
          "data": {
            "text/plain": [
              "'abcdefghijklmnopqrstuvwxyz'"
            ],
            "application/vnd.google.colaboratory.intrinsic+json": {
              "type": "string"
            }
          },
          "metadata": {},
          "execution_count": 135
        }
      ]
    },
    {
      "cell_type": "code",
      "source": [
        "r_splitter.split_text(text1)"
      ],
      "metadata": {
        "colab": {
          "base_uri": "https://localhost:8080/"
        },
        "id": "rVp4-ytFQWIP",
        "outputId": "596369dc-0773-4bec-f0ec-b56eedcdbd78"
      },
      "execution_count": 136,
      "outputs": [
        {
          "output_type": "execute_result",
          "data": {
            "text/plain": [
              "['abcdefghijklmnopqrstuvwxyz']"
            ]
          },
          "metadata": {},
          "execution_count": 136
        }
      ]
    },
    {
      "cell_type": "code",
      "source": [
        "c_splitter.split_text(text1)"
      ],
      "metadata": {
        "colab": {
          "base_uri": "https://localhost:8080/"
        },
        "id": "fKjexOybQii5",
        "outputId": "53c84f8a-e4e8-4737-d73a-ee93bad93fe6"
      },
      "execution_count": 137,
      "outputs": [
        {
          "output_type": "execute_result",
          "data": {
            "text/plain": [
              "['abcdefghijklmnopqrstuvwxyz']"
            ]
          },
          "metadata": {},
          "execution_count": 137
        }
      ]
    },
    {
      "cell_type": "code",
      "source": [
        "text2='abcdefghijklmnopqrstuvwxyzabcdefg'"
      ],
      "metadata": {
        "id": "FcOssUPoQqaO"
      },
      "execution_count": 138,
      "outputs": []
    },
    {
      "cell_type": "code",
      "source": [
        "r_splitter.split_text(text2)"
      ],
      "metadata": {
        "colab": {
          "base_uri": "https://localhost:8080/"
        },
        "id": "5pARzXxNQz5V",
        "outputId": "2001bc7e-8dd6-4993-99d9-c10efd476a33"
      },
      "execution_count": 139,
      "outputs": [
        {
          "output_type": "execute_result",
          "data": {
            "text/plain": [
              "['abcdefghijklmnopqrstuvwxyz', 'wxyzabcdefg']"
            ]
          },
          "metadata": {},
          "execution_count": 139
        }
      ]
    },
    {
      "cell_type": "code",
      "source": [
        "c_splitter.split_text(text2)"
      ],
      "metadata": {
        "colab": {
          "base_uri": "https://localhost:8080/"
        },
        "id": "2b4-0LHcQ6df",
        "outputId": "209c3b23-1cb2-4f96-99c8-b9f00597835f"
      },
      "execution_count": 140,
      "outputs": [
        {
          "output_type": "execute_result",
          "data": {
            "text/plain": [
              "['abcdefghijklmnopqrstuvwxyz', 'wxyzabcdefg']"
            ]
          },
          "metadata": {},
          "execution_count": 140
        }
      ]
    },
    {
      "cell_type": "code",
      "source": [
        "import os\n",
        "import openai\n",
        "import sys\n",
        "sys.path.append('../..')"
      ],
      "metadata": {
        "id": "bcs7nLytRJLI"
      },
      "execution_count": 141,
      "outputs": []
    },
    {
      "cell_type": "code",
      "source": [
        "!pip install langchain_community Pypdf"
      ],
      "metadata": {
        "colab": {
          "base_uri": "https://localhost:8080/"
        },
        "id": "D4al2fhMTBSj",
        "outputId": "3922ab26-7506-4dea-e333-6063e1ae1ce1"
      },
      "execution_count": 142,
      "outputs": [
        {
          "output_type": "stream",
          "name": "stdout",
          "text": [
            "Requirement already satisfied: langchain_community in /usr/local/lib/python3.10/dist-packages (0.3.1)\n",
            "Requirement already satisfied: Pypdf in /usr/local/lib/python3.10/dist-packages (5.0.0)\n",
            "Requirement already satisfied: PyYAML>=5.3 in /usr/local/lib/python3.10/dist-packages (from langchain_community) (6.0.2)\n",
            "Requirement already satisfied: SQLAlchemy<3,>=1.4 in /usr/local/lib/python3.10/dist-packages (from langchain_community) (2.0.35)\n",
            "Requirement already satisfied: aiohttp<4.0.0,>=3.8.3 in /usr/local/lib/python3.10/dist-packages (from langchain_community) (3.10.5)\n",
            "Requirement already satisfied: dataclasses-json<0.7,>=0.5.7 in /usr/local/lib/python3.10/dist-packages (from langchain_community) (0.6.7)\n",
            "Requirement already satisfied: langchain<0.4.0,>=0.3.1 in /usr/local/lib/python3.10/dist-packages (from langchain_community) (0.3.1)\n",
            "Requirement already satisfied: langchain-core<0.4.0,>=0.3.6 in /usr/local/lib/python3.10/dist-packages (from langchain_community) (0.3.6)\n",
            "Requirement already satisfied: langsmith<0.2.0,>=0.1.125 in /usr/local/lib/python3.10/dist-packages (from langchain_community) (0.1.128)\n",
            "Requirement already satisfied: numpy<2,>=1 in /usr/local/lib/python3.10/dist-packages (from langchain_community) (1.26.4)\n",
            "Requirement already satisfied: pydantic-settings<3.0.0,>=2.4.0 in /usr/local/lib/python3.10/dist-packages (from langchain_community) (2.5.2)\n",
            "Requirement already satisfied: requests<3,>=2 in /usr/local/lib/python3.10/dist-packages (from langchain_community) (2.32.3)\n",
            "Requirement already satisfied: tenacity!=8.4.0,<9.0.0,>=8.1.0 in /usr/local/lib/python3.10/dist-packages (from langchain_community) (8.5.0)\n",
            "Requirement already satisfied: typing_extensions>=4.0 in /usr/local/lib/python3.10/dist-packages (from Pypdf) (4.12.2)\n",
            "Requirement already satisfied: aiohappyeyeballs>=2.3.0 in /usr/local/lib/python3.10/dist-packages (from aiohttp<4.0.0,>=3.8.3->langchain_community) (2.4.0)\n",
            "Requirement already satisfied: aiosignal>=1.1.2 in /usr/local/lib/python3.10/dist-packages (from aiohttp<4.0.0,>=3.8.3->langchain_community) (1.3.1)\n",
            "Requirement already satisfied: attrs>=17.3.0 in /usr/local/lib/python3.10/dist-packages (from aiohttp<4.0.0,>=3.8.3->langchain_community) (24.2.0)\n",
            "Requirement already satisfied: frozenlist>=1.1.1 in /usr/local/lib/python3.10/dist-packages (from aiohttp<4.0.0,>=3.8.3->langchain_community) (1.4.1)\n",
            "Requirement already satisfied: multidict<7.0,>=4.5 in /usr/local/lib/python3.10/dist-packages (from aiohttp<4.0.0,>=3.8.3->langchain_community) (6.1.0)\n",
            "Requirement already satisfied: yarl<2.0,>=1.0 in /usr/local/lib/python3.10/dist-packages (from aiohttp<4.0.0,>=3.8.3->langchain_community) (1.11.1)\n",
            "Requirement already satisfied: async-timeout<5.0,>=4.0 in /usr/local/lib/python3.10/dist-packages (from aiohttp<4.0.0,>=3.8.3->langchain_community) (4.0.3)\n",
            "Requirement already satisfied: marshmallow<4.0.0,>=3.18.0 in /usr/local/lib/python3.10/dist-packages (from dataclasses-json<0.7,>=0.5.7->langchain_community) (3.22.0)\n",
            "Requirement already satisfied: typing-inspect<1,>=0.4.0 in /usr/local/lib/python3.10/dist-packages (from dataclasses-json<0.7,>=0.5.7->langchain_community) (0.9.0)\n",
            "Requirement already satisfied: langchain-text-splitters<0.4.0,>=0.3.0 in /usr/local/lib/python3.10/dist-packages (from langchain<0.4.0,>=0.3.1->langchain_community) (0.3.0)\n",
            "Requirement already satisfied: pydantic<3.0.0,>=2.7.4 in /usr/local/lib/python3.10/dist-packages (from langchain<0.4.0,>=0.3.1->langchain_community) (2.9.2)\n",
            "Requirement already satisfied: jsonpatch<2.0,>=1.33 in /usr/local/lib/python3.10/dist-packages (from langchain-core<0.4.0,>=0.3.6->langchain_community) (1.33)\n",
            "Requirement already satisfied: packaging<25,>=23.2 in /usr/local/lib/python3.10/dist-packages (from langchain-core<0.4.0,>=0.3.6->langchain_community) (24.1)\n",
            "Requirement already satisfied: httpx<1,>=0.23.0 in /usr/local/lib/python3.10/dist-packages (from langsmith<0.2.0,>=0.1.125->langchain_community) (0.27.2)\n",
            "Requirement already satisfied: orjson<4.0.0,>=3.9.14 in /usr/local/lib/python3.10/dist-packages (from langsmith<0.2.0,>=0.1.125->langchain_community) (3.10.7)\n",
            "Requirement already satisfied: python-dotenv>=0.21.0 in /usr/local/lib/python3.10/dist-packages (from pydantic-settings<3.0.0,>=2.4.0->langchain_community) (1.0.1)\n",
            "Requirement already satisfied: charset-normalizer<4,>=2 in /usr/local/lib/python3.10/dist-packages (from requests<3,>=2->langchain_community) (3.3.2)\n",
            "Requirement already satisfied: idna<4,>=2.5 in /usr/local/lib/python3.10/dist-packages (from requests<3,>=2->langchain_community) (3.10)\n",
            "Requirement already satisfied: urllib3<3,>=1.21.1 in /usr/local/lib/python3.10/dist-packages (from requests<3,>=2->langchain_community) (2.2.3)\n",
            "Requirement already satisfied: certifi>=2017.4.17 in /usr/local/lib/python3.10/dist-packages (from requests<3,>=2->langchain_community) (2024.8.30)\n",
            "Requirement already satisfied: greenlet!=0.4.17 in /usr/local/lib/python3.10/dist-packages (from SQLAlchemy<3,>=1.4->langchain_community) (3.1.1)\n",
            "Requirement already satisfied: anyio in /usr/local/lib/python3.10/dist-packages (from httpx<1,>=0.23.0->langsmith<0.2.0,>=0.1.125->langchain_community) (3.7.1)\n",
            "Requirement already satisfied: httpcore==1.* in /usr/local/lib/python3.10/dist-packages (from httpx<1,>=0.23.0->langsmith<0.2.0,>=0.1.125->langchain_community) (1.0.5)\n",
            "Requirement already satisfied: sniffio in /usr/local/lib/python3.10/dist-packages (from httpx<1,>=0.23.0->langsmith<0.2.0,>=0.1.125->langchain_community) (1.3.1)\n",
            "Requirement already satisfied: h11<0.15,>=0.13 in /usr/local/lib/python3.10/dist-packages (from httpcore==1.*->httpx<1,>=0.23.0->langsmith<0.2.0,>=0.1.125->langchain_community) (0.14.0)\n",
            "Requirement already satisfied: jsonpointer>=1.9 in /usr/local/lib/python3.10/dist-packages (from jsonpatch<2.0,>=1.33->langchain-core<0.4.0,>=0.3.6->langchain_community) (3.0.0)\n",
            "Requirement already satisfied: annotated-types>=0.6.0 in /usr/local/lib/python3.10/dist-packages (from pydantic<3.0.0,>=2.7.4->langchain<0.4.0,>=0.3.1->langchain_community) (0.7.0)\n",
            "Requirement already satisfied: pydantic-core==2.23.4 in /usr/local/lib/python3.10/dist-packages (from pydantic<3.0.0,>=2.7.4->langchain<0.4.0,>=0.3.1->langchain_community) (2.23.4)\n",
            "Requirement already satisfied: mypy-extensions>=0.3.0 in /usr/local/lib/python3.10/dist-packages (from typing-inspect<1,>=0.4.0->dataclasses-json<0.7,>=0.5.7->langchain_community) (1.0.0)\n",
            "Requirement already satisfied: exceptiongroup in /usr/local/lib/python3.10/dist-packages (from anyio->httpx<1,>=0.23.0->langsmith<0.2.0,>=0.1.125->langchain_community) (1.2.2)\n"
          ]
        }
      ]
    },
    {
      "cell_type": "code",
      "source": [
        "from langchain_community.document_loaders import PyPDFLoader\n",
        "loader=PyPDFLoader(\"/content/National AI Policy Consultation Draft V1.pdf\")\n",
        "pages=loader.load_and_split()"
      ],
      "metadata": {
        "id": "XXuKyHR9Tt29"
      },
      "execution_count": 143,
      "outputs": []
    },
    {
      "cell_type": "code",
      "source": [
        "len(pages)"
      ],
      "metadata": {
        "colab": {
          "base_uri": "https://localhost:8080/"
        },
        "id": "OjeK5WrWUlsE",
        "outputId": "e19661e7-d49c-4428-e1e4-8347f484e887"
      },
      "execution_count": 144,
      "outputs": [
        {
          "output_type": "execute_result",
          "data": {
            "text/plain": [
              "48"
            ]
          },
          "metadata": {},
          "execution_count": 144
        }
      ]
    },
    {
      "cell_type": "code",
      "source": [
        "chunk_list=[]\n",
        "for page in pages:\n",
        "  chunks=r_splitter.split_text(page.page_content)\n",
        "  for chunk in chunks:\n",
        "    chunk_list.append(chunk)\n",
        "print(len(chunk_list))"
      ],
      "metadata": {
        "colab": {
          "base_uri": "https://localhost:8080/"
        },
        "id": "c8Px-YHuUo4p",
        "outputId": "4e81c4ce-2c5e-447a-b1a7-ad533dff4f92"
      },
      "execution_count": 145,
      "outputs": [
        {
          "output_type": "stream",
          "name": "stdout",
          "text": [
            "6068\n"
          ]
        }
      ]
    },
    {
      "cell_type": "code",
      "source": [
        "chunk_list[3]"
      ],
      "metadata": {
        "colab": {
          "base_uri": "https://localhost:8080/",
          "height": 36
        },
        "id": "V5T0xsrXWXzO",
        "outputId": "6e986d83-f480-4594-d614-13eedce55ea4"
      },
      "execution_count": 146,
      "outputs": [
        {
          "output_type": "execute_result",
          "data": {
            "text/plain": [
              "'Artificial Intelligence'"
            ],
            "application/vnd.google.colaboratory.intrinsic+json": {
              "type": "string"
            }
          },
          "metadata": {},
          "execution_count": 146
        }
      ]
    },
    {
      "cell_type": "code",
      "source": [
        "!pip install transformers langchain_huggingface"
      ],
      "metadata": {
        "colab": {
          "base_uri": "https://localhost:8080/"
        },
        "id": "E8Os4dU-Wb8W",
        "outputId": "147473ff-e801-45e4-f708-60cca3d758f7"
      },
      "execution_count": 147,
      "outputs": [
        {
          "output_type": "stream",
          "name": "stdout",
          "text": [
            "Requirement already satisfied: transformers in /usr/local/lib/python3.10/dist-packages (4.44.2)\n",
            "Requirement already satisfied: langchain_huggingface in /usr/local/lib/python3.10/dist-packages (0.1.0)\n",
            "Requirement already satisfied: filelock in /usr/local/lib/python3.10/dist-packages (from transformers) (3.16.1)\n",
            "Requirement already satisfied: huggingface-hub<1.0,>=0.23.2 in /usr/local/lib/python3.10/dist-packages (from transformers) (0.24.7)\n",
            "Requirement already satisfied: numpy>=1.17 in /usr/local/lib/python3.10/dist-packages (from transformers) (1.26.4)\n",
            "Requirement already satisfied: packaging>=20.0 in /usr/local/lib/python3.10/dist-packages (from transformers) (24.1)\n",
            "Requirement already satisfied: pyyaml>=5.1 in /usr/local/lib/python3.10/dist-packages (from transformers) (6.0.2)\n",
            "Requirement already satisfied: regex!=2019.12.17 in /usr/local/lib/python3.10/dist-packages (from transformers) (2024.9.11)\n",
            "Requirement already satisfied: requests in /usr/local/lib/python3.10/dist-packages (from transformers) (2.32.3)\n",
            "Requirement already satisfied: safetensors>=0.4.1 in /usr/local/lib/python3.10/dist-packages (from transformers) (0.4.5)\n",
            "Requirement already satisfied: tokenizers<0.20,>=0.19 in /usr/local/lib/python3.10/dist-packages (from transformers) (0.19.1)\n",
            "Requirement already satisfied: tqdm>=4.27 in /usr/local/lib/python3.10/dist-packages (from transformers) (4.66.5)\n",
            "Requirement already satisfied: langchain-core<0.4,>=0.3.0 in /usr/local/lib/python3.10/dist-packages (from langchain_huggingface) (0.3.6)\n",
            "Requirement already satisfied: sentence-transformers>=2.6.0 in /usr/local/lib/python3.10/dist-packages (from langchain_huggingface) (3.1.1)\n",
            "Requirement already satisfied: fsspec>=2023.5.0 in /usr/local/lib/python3.10/dist-packages (from huggingface-hub<1.0,>=0.23.2->transformers) (2024.6.1)\n",
            "Requirement already satisfied: typing-extensions>=3.7.4.3 in /usr/local/lib/python3.10/dist-packages (from huggingface-hub<1.0,>=0.23.2->transformers) (4.12.2)\n",
            "Requirement already satisfied: jsonpatch<2.0,>=1.33 in /usr/local/lib/python3.10/dist-packages (from langchain-core<0.4,>=0.3.0->langchain_huggingface) (1.33)\n",
            "Requirement already satisfied: langsmith<0.2.0,>=0.1.125 in /usr/local/lib/python3.10/dist-packages (from langchain-core<0.4,>=0.3.0->langchain_huggingface) (0.1.128)\n",
            "Requirement already satisfied: pydantic<3.0.0,>=2.5.2 in /usr/local/lib/python3.10/dist-packages (from langchain-core<0.4,>=0.3.0->langchain_huggingface) (2.9.2)\n",
            "Requirement already satisfied: tenacity!=8.4.0,<9.0.0,>=8.1.0 in /usr/local/lib/python3.10/dist-packages (from langchain-core<0.4,>=0.3.0->langchain_huggingface) (8.5.0)\n",
            "Requirement already satisfied: torch>=1.11.0 in /usr/local/lib/python3.10/dist-packages (from sentence-transformers>=2.6.0->langchain_huggingface) (2.4.1+cu121)\n",
            "Requirement already satisfied: scikit-learn in /usr/local/lib/python3.10/dist-packages (from sentence-transformers>=2.6.0->langchain_huggingface) (1.5.2)\n",
            "Requirement already satisfied: scipy in /usr/local/lib/python3.10/dist-packages (from sentence-transformers>=2.6.0->langchain_huggingface) (1.13.1)\n",
            "Requirement already satisfied: Pillow in /usr/local/lib/python3.10/dist-packages (from sentence-transformers>=2.6.0->langchain_huggingface) (10.4.0)\n",
            "Requirement already satisfied: charset-normalizer<4,>=2 in /usr/local/lib/python3.10/dist-packages (from requests->transformers) (3.3.2)\n",
            "Requirement already satisfied: idna<4,>=2.5 in /usr/local/lib/python3.10/dist-packages (from requests->transformers) (3.10)\n",
            "Requirement already satisfied: urllib3<3,>=1.21.1 in /usr/local/lib/python3.10/dist-packages (from requests->transformers) (2.2.3)\n",
            "Requirement already satisfied: certifi>=2017.4.17 in /usr/local/lib/python3.10/dist-packages (from requests->transformers) (2024.8.30)\n",
            "Requirement already satisfied: jsonpointer>=1.9 in /usr/local/lib/python3.10/dist-packages (from jsonpatch<2.0,>=1.33->langchain-core<0.4,>=0.3.0->langchain_huggingface) (3.0.0)\n",
            "Requirement already satisfied: httpx<1,>=0.23.0 in /usr/local/lib/python3.10/dist-packages (from langsmith<0.2.0,>=0.1.125->langchain-core<0.4,>=0.3.0->langchain_huggingface) (0.27.2)\n",
            "Requirement already satisfied: orjson<4.0.0,>=3.9.14 in /usr/local/lib/python3.10/dist-packages (from langsmith<0.2.0,>=0.1.125->langchain-core<0.4,>=0.3.0->langchain_huggingface) (3.10.7)\n",
            "Requirement already satisfied: annotated-types>=0.6.0 in /usr/local/lib/python3.10/dist-packages (from pydantic<3.0.0,>=2.5.2->langchain-core<0.4,>=0.3.0->langchain_huggingface) (0.7.0)\n",
            "Requirement already satisfied: pydantic-core==2.23.4 in /usr/local/lib/python3.10/dist-packages (from pydantic<3.0.0,>=2.5.2->langchain-core<0.4,>=0.3.0->langchain_huggingface) (2.23.4)\n",
            "Requirement already satisfied: sympy in /usr/local/lib/python3.10/dist-packages (from torch>=1.11.0->sentence-transformers>=2.6.0->langchain_huggingface) (1.13.3)\n",
            "Requirement already satisfied: networkx in /usr/local/lib/python3.10/dist-packages (from torch>=1.11.0->sentence-transformers>=2.6.0->langchain_huggingface) (3.3)\n",
            "Requirement already satisfied: jinja2 in /usr/local/lib/python3.10/dist-packages (from torch>=1.11.0->sentence-transformers>=2.6.0->langchain_huggingface) (3.1.4)\n",
            "Requirement already satisfied: joblib>=1.2.0 in /usr/local/lib/python3.10/dist-packages (from scikit-learn->sentence-transformers>=2.6.0->langchain_huggingface) (1.4.2)\n",
            "Requirement already satisfied: threadpoolctl>=3.1.0 in /usr/local/lib/python3.10/dist-packages (from scikit-learn->sentence-transformers>=2.6.0->langchain_huggingface) (3.5.0)\n",
            "Requirement already satisfied: anyio in /usr/local/lib/python3.10/dist-packages (from httpx<1,>=0.23.0->langsmith<0.2.0,>=0.1.125->langchain-core<0.4,>=0.3.0->langchain_huggingface) (3.7.1)\n",
            "Requirement already satisfied: httpcore==1.* in /usr/local/lib/python3.10/dist-packages (from httpx<1,>=0.23.0->langsmith<0.2.0,>=0.1.125->langchain-core<0.4,>=0.3.0->langchain_huggingface) (1.0.5)\n",
            "Requirement already satisfied: sniffio in /usr/local/lib/python3.10/dist-packages (from httpx<1,>=0.23.0->langsmith<0.2.0,>=0.1.125->langchain-core<0.4,>=0.3.0->langchain_huggingface) (1.3.1)\n",
            "Requirement already satisfied: h11<0.15,>=0.13 in /usr/local/lib/python3.10/dist-packages (from httpcore==1.*->httpx<1,>=0.23.0->langsmith<0.2.0,>=0.1.125->langchain-core<0.4,>=0.3.0->langchain_huggingface) (0.14.0)\n",
            "Requirement already satisfied: MarkupSafe>=2.0 in /usr/local/lib/python3.10/dist-packages (from jinja2->torch>=1.11.0->sentence-transformers>=2.6.0->langchain_huggingface) (2.1.5)\n",
            "Requirement already satisfied: mpmath<1.4,>=1.1.0 in /usr/local/lib/python3.10/dist-packages (from sympy->torch>=1.11.0->sentence-transformers>=2.6.0->langchain_huggingface) (1.3.0)\n",
            "Requirement already satisfied: exceptiongroup in /usr/local/lib/python3.10/dist-packages (from anyio->httpx<1,>=0.23.0->langsmith<0.2.0,>=0.1.125->langchain-core<0.4,>=0.3.0->langchain_huggingface) (1.2.2)\n"
          ]
        }
      ]
    },
    {
      "cell_type": "code",
      "source": [
        "from langchain_huggingface import HuggingFaceEmbeddings"
      ],
      "metadata": {
        "id": "H0b0SsChWyoq"
      },
      "execution_count": 148,
      "outputs": []
    },
    {
      "cell_type": "code",
      "source": [
        "embed_model=HuggingFaceEmbeddings(model_name='BAAI/bge-small-en-v1.5')"
      ],
      "metadata": {
        "id": "1-Ka1eXSXesY"
      },
      "execution_count": 149,
      "outputs": []
    },
    {
      "cell_type": "code",
      "source": [
        "embed=embed_model.embed_query(\"how are you\")"
      ],
      "metadata": {
        "id": "VpyYQgRlg25k"
      },
      "execution_count": 150,
      "outputs": []
    },
    {
      "cell_type": "code",
      "source": [
        "len(embed)"
      ],
      "metadata": {
        "colab": {
          "base_uri": "https://localhost:8080/"
        },
        "id": "90LomPwYibxA",
        "outputId": "c974d647-306f-4fd2-c2f0-f81b8b308f83"
      },
      "execution_count": 151,
      "outputs": [
        {
          "output_type": "execute_result",
          "data": {
            "text/plain": [
              "384"
            ]
          },
          "metadata": {},
          "execution_count": 151
        }
      ]
    },
    {
      "cell_type": "code",
      "source": [
        "embed"
      ],
      "metadata": {
        "colab": {
          "base_uri": "https://localhost:8080/"
        },
        "id": "xGNirLeLid9x",
        "outputId": "d071bcb0-9bb4-465c-c50d-edbe488d333e"
      },
      "execution_count": 152,
      "outputs": [
        {
          "output_type": "execute_result",
          "data": {
            "text/plain": [
              "[-0.03696877136826515,\n",
              " -0.04924704506993294,\n",
              " 0.05654619261622429,\n",
              " -0.05470948666334152,\n",
              " -0.018780866637825966,\n",
              " 0.011472786776721478,\n",
              " 0.09515183418989182,\n",
              " 0.027272559702396393,\n",
              " 0.016357101500034332,\n",
              " -0.014467008411884308,\n",
              " -0.0031246112193912268,\n",
              " -0.08667111396789551,\n",
              " 0.059150438755750656,\n",
              " 0.03229740634560585,\n",
              " 0.045611001551151276,\n",
              " 0.02485719881951809,\n",
              " 0.0350593626499176,\n",
              " -0.10385560989379883,\n",
              " -0.14094822108745575,\n",
              " -0.00014113304496277124,\n",
              " -0.04878607764840126,\n",
              " -0.010566978715360165,\n",
              " -0.03304486721754074,\n",
              " -0.03687197342514992,\n",
              " -0.025240028277039528,\n",
              " 0.019053617492318153,\n",
              " 0.03205827996134758,\n",
              " -0.01096800621598959,\n",
              " -0.044585052877664566,\n",
              " -0.004663153551518917,\n",
              " -0.04600764065980911,\n",
              " 0.008752531372010708,\n",
              " 0.04595591127872467,\n",
              " 0.023735569790005684,\n",
              " 0.03250192105770111,\n",
              " 0.02046920731663704,\n",
              " -0.017409177497029305,\n",
              " -0.004514733329415321,\n",
              " -0.023278407752513885,\n",
              " -0.001920856535434723,\n",
              " 0.022663738578557968,\n",
              " -0.006476372480392456,\n",
              " -0.05061506852507591,\n",
              " -0.07495152205228806,\n",
              " 0.053756192326545715,\n",
              " -0.0401410236954689,\n",
              " 0.022261111065745354,\n",
              " 0.05904333293437958,\n",
              " 0.05232454463839531,\n",
              " -0.014021115377545357,\n",
              " -0.09268180280923843,\n",
              " 0.03836291283369064,\n",
              " 0.016135314479470253,\n",
              " 0.03253671154379845,\n",
              " 0.01278370339423418,\n",
              " 0.07994939386844635,\n",
              " 0.08297399431467056,\n",
              " -0.013142000883817673,\n",
              " 0.03707846999168396,\n",
              " 0.0170221496373415,\n",
              " 0.009798577055335045,\n",
              " 0.04653284326195717,\n",
              " -0.1140616238117218,\n",
              " 0.059990521520376205,\n",
              " -0.0008064318099059165,\n",
              " -0.012277999892830849,\n",
              " -0.07082605361938477,\n",
              " -0.02321488969027996,\n",
              " -0.02083512954413891,\n",
              " 0.026040466502308846,\n",
              " -0.005033044144511223,\n",
              " -0.019130773842334747,\n",
              " 0.03377128764986992,\n",
              " 0.06014297902584076,\n",
              " 0.01670464500784874,\n",
              " 0.020549755543470383,\n",
              " 0.08172716200351715,\n",
              " -0.06027675047516823,\n",
              " 0.05293269827961922,\n",
              " -0.04000980406999588,\n",
              " 0.00885508768260479,\n",
              " 0.014597649686038494,\n",
              " -0.049433134496212006,\n",
              " 0.024576591327786446,\n",
              " 0.028530271723866463,\n",
              " -0.011387896724045277,\n",
              " -0.046563562005758286,\n",
              " 0.09031643718481064,\n",
              " -0.02223105914890766,\n",
              " -0.014587407931685448,\n",
              " -0.05561674386262894,\n",
              " 0.05325258523225784,\n",
              " -0.009011256508529186,\n",
              " 0.033051785081624985,\n",
              " 0.01892872340977192,\n",
              " -0.07967962324619293,\n",
              " 0.01722615770995617,\n",
              " 0.01076530572026968,\n",
              " -0.06063462048768997,\n",
              " 0.31874674558639526,\n",
              " -0.04334111139178276,\n",
              " 0.058331046253442764,\n",
              " 0.09470286965370178,\n",
              " -0.025396762415766716,\n",
              " -0.02007766254246235,\n",
              " -0.018153857439756393,\n",
              " 0.022866228595376015,\n",
              " -0.02912089042365551,\n",
              " 0.01483059860765934,\n",
              " -0.030078072100877762,\n",
              " 0.00866322498768568,\n",
              " -0.015410632826387882,\n",
              " 0.033793818205595016,\n",
              " -0.01817019283771515,\n",
              " 0.022816918790340424,\n",
              " 0.006563583388924599,\n",
              " 0.062199290841817856,\n",
              " 0.010815955698490143,\n",
              " 0.09520566463470459,\n",
              " -0.05260161682963371,\n",
              " -0.01620497740805149,\n",
              " 0.01515665277838707,\n",
              " -0.03808652609586716,\n",
              " 0.0016855313442647457,\n",
              " 0.10663402825593948,\n",
              " -0.08448794484138489,\n",
              " 0.094306580722332,\n",
              " 0.1012219488620758,\n",
              " 0.009399796836078167,\n",
              " 0.05563848838210106,\n",
              " 0.04861639067530632,\n",
              " 0.008627002127468586,\n",
              " -0.03939178213477135,\n",
              " 0.0011598389828577638,\n",
              " -0.010174904018640518,\n",
              " 0.0003879104624502361,\n",
              " -0.011864830739796162,\n",
              " -0.02936490625143051,\n",
              " -0.004198295995593071,\n",
              " 0.008231379091739655,\n",
              " -0.002625739900395274,\n",
              " -0.08235035091638565,\n",
              " -0.045768506824970245,\n",
              " -0.1310388296842575,\n",
              " 0.0044975681230425835,\n",
              " 0.05130062997341156,\n",
              " -0.0350089929997921,\n",
              " 0.03389887884259224,\n",
              " -0.04015686735510826,\n",
              " 0.02415435016155243,\n",
              " -0.04348373040556908,\n",
              " 0.06998109817504883,\n",
              " 0.021625502035021782,\n",
              " -0.05317547544836998,\n",
              " 0.001709629432298243,\n",
              " 0.008793319575488567,\n",
              " 0.03275950998067856,\n",
              " -0.01417593378573656,\n",
              " -0.002374534495174885,\n",
              " 0.012343852780759335,\n",
              " 0.024014310911297798,\n",
              " -0.016429563984274864,\n",
              " -0.04481033980846405,\n",
              " -0.0389755479991436,\n",
              " -0.022075917571783066,\n",
              " -0.05950348079204559,\n",
              " -0.027814021334052086,\n",
              " 0.041872408241033554,\n",
              " 0.04694196954369545,\n",
              " -0.02554444782435894,\n",
              " 0.049837734550237656,\n",
              " 0.01532292552292347,\n",
              " -0.012083323672413826,\n",
              " 0.020125238224864006,\n",
              " 0.1072005107998848,\n",
              " -0.009977757930755615,\n",
              " 0.06116176396608353,\n",
              " 0.015539033338427544,\n",
              " -0.008908972144126892,\n",
              " -0.020806923508644104,\n",
              " 0.0024104882031679153,\n",
              " 0.040540050715208054,\n",
              " -0.008990486152470112,\n",
              " -0.001561822951771319,\n",
              " -0.013254617340862751,\n",
              " -0.02958645112812519,\n",
              " -0.010896386578679085,\n",
              " -0.013318261131644249,\n",
              " 0.02490946836769581,\n",
              " 0.020967693999409676,\n",
              " 0.010716693475842476,\n",
              " -0.0622759573161602,\n",
              " 0.01231502927839756,\n",
              " 0.024455131962895393,\n",
              " -0.06741366535425186,\n",
              " 0.0180774237960577,\n",
              " 0.04454786702990532,\n",
              " -0.02872120589017868,\n",
              " -0.02424706146121025,\n",
              " 0.04114845395088196,\n",
              " 0.04158095270395279,\n",
              " 0.010930442251265049,\n",
              " 0.04021190106868744,\n",
              " 0.03960331529378891,\n",
              " 0.07160934805870056,\n",
              " 0.004693628288805485,\n",
              " 0.020214416086673737,\n",
              " -0.022533057257533073,\n",
              " 0.028615856543183327,\n",
              " 0.03437180817127228,\n",
              " -0.0103311100974679,\n",
              " -0.041544359177351,\n",
              " 0.1034427136182785,\n",
              " -0.0036042570136487484,\n",
              " -0.008228590711951256,\n",
              " -0.06564606726169586,\n",
              " -0.0038040634244680405,\n",
              " 0.050668101757764816,\n",
              " -0.018870407715439796,\n",
              " 0.057583630084991455,\n",
              " -0.029024649411439896,\n",
              " -0.028157921507954597,\n",
              " -0.038483597338199615,\n",
              " -0.26202714443206787,\n",
              " 0.06272798031568527,\n",
              " 0.023243950679898262,\n",
              " -0.011639264412224293,\n",
              " 0.047656718641519547,\n",
              " -0.0073163160122931,\n",
              " 0.030525973066687584,\n",
              " 0.00199192576110363,\n",
              " 0.10197007656097412,\n",
              " 0.03344033285975456,\n",
              " 0.00461400393396616,\n",
              " -0.05985364690423012,\n",
              " -0.01738732121884823,\n",
              " -0.018694782629609108,\n",
              " -0.005685416981577873,\n",
              " 0.020908735692501068,\n",
              " 0.023599056527018547,\n",
              " -0.03948291391134262,\n",
              " 0.013194235041737556,\n",
              " -0.03812051936984062,\n",
              " 0.02633625827729702,\n",
              " -0.011150822974741459,\n",
              " -0.005650960840284824,\n",
              " -0.0323704369366169,\n",
              " 0.015279905870556831,\n",
              " -0.04807538911700249,\n",
              " 0.14168496429920197,\n",
              " 0.10124068707227707,\n",
              " 0.04727611690759659,\n",
              " 0.028390299528837204,\n",
              " 0.04302290827035904,\n",
              " 0.009286333806812763,\n",
              " 0.0008384634857065976,\n",
              " -0.2036323845386505,\n",
              " 0.05011814832687378,\n",
              " 0.018729083240032196,\n",
              " -0.025811048224568367,\n",
              " -0.07064519822597504,\n",
              " -0.11587761342525482,\n",
              " -0.03424480929970741,\n",
              " -0.017482485622167587,\n",
              " -0.00656003225594759,\n",
              " -0.02832985855638981,\n",
              " -0.06001770496368408,\n",
              " -0.006189454346895218,\n",
              " -0.061047740280628204,\n",
              " -0.005195161327719688,\n",
              " -0.021923886612057686,\n",
              " -0.07405708730220795,\n",
              " 0.018308201804757118,\n",
              " 0.0022780608851462603,\n",
              " -0.039806678891181946,\n",
              " 0.06272874027490616,\n",
              " 0.016526758670806885,\n",
              " -0.02742128074169159,\n",
              " -0.049236662685871124,\n",
              " -0.04049493744969368,\n",
              " -0.03589320182800293,\n",
              " -0.03537827730178833,\n",
              " 0.08284630626440048,\n",
              " -0.06890255212783813,\n",
              " 0.03712134063243866,\n",
              " 0.0035350872203707695,\n",
              " 0.022385144606232643,\n",
              " -0.018209896981716156,\n",
              " 0.05089431628584862,\n",
              " -0.0088948430493474,\n",
              " -0.038263894617557526,\n",
              " 0.0581856369972229,\n",
              " 0.002748804399743676,\n",
              " -0.0004529832222033292,\n",
              " -0.06210968643426895,\n",
              " -0.026375247165560722,\n",
              " -0.0014311450067907572,\n",
              " 0.0003613429726101458,\n",
              " 0.01934254914522171,\n",
              " 0.018072882667183876,\n",
              " 0.03581533581018448,\n",
              " 0.026381030678749084,\n",
              " -0.06755220144987106,\n",
              " 0.050191059708595276,\n",
              " -0.013010475784540176,\n",
              " 0.050725892186164856,\n",
              " -0.013197771273553371,\n",
              " 0.028685564175248146,\n",
              " -0.001717018079943955,\n",
              " 0.02632756158709526,\n",
              " -0.042122483253479004,\n",
              " 0.07263975590467453,\n",
              " -0.022504501044750214,\n",
              " -0.05424617603421211,\n",
              " 0.02650844305753708,\n",
              " -0.026401616632938385,\n",
              " -0.14325441420078278,\n",
              " -0.004358288366347551,\n",
              " -0.002130553824827075,\n",
              " -0.22226352989673615,\n",
              " 0.02345140092074871,\n",
              " 0.005463057663291693,\n",
              " 4.047851689392701e-05,\n",
              " -0.06455598771572113,\n",
              " 0.007328338455408812,\n",
              " 0.008166234940290451,\n",
              " 0.08224737644195557,\n",
              " -0.10530129075050354,\n",
              " 0.0281070563942194,\n",
              " 0.007489164359867573,\n",
              " 0.021458419039845467,\n",
              " -0.011860605329275131,\n",
              " -0.02030578814446926,\n",
              " -0.004445998929440975,\n",
              " -0.042339760810136795,\n",
              " 0.07266925275325775,\n",
              " -0.11242910474538803,\n",
              " 0.029278161004185677,\n",
              " -0.0027757487259805202,\n",
              " -0.004690056666731834,\n",
              " -0.0006738847587257624,\n",
              " 0.12240435928106308,\n",
              " 0.01183908898383379,\n",
              " 0.07400406897068024,\n",
              " 0.05074843019247055,\n",
              " -0.007395430002361536,\n",
              " 0.02945253811776638,\n",
              " 0.030387820675969124,\n",
              " 0.024426069110631943,\n",
              " 0.01576932892203331,\n",
              " -0.009658975526690483,\n",
              " 0.032849207520484924,\n",
              " -0.03684351593255997,\n",
              " -0.013133950531482697,\n",
              " -0.02014566957950592,\n",
              " -0.07813000679016113,\n",
              " 0.008917933329939842,\n",
              " -0.0012064377078786492,\n",
              " -0.047165632247924805,\n",
              " -0.001834889524616301,\n",
              " -0.0042417156510055065,\n",
              " -0.007070513442158699,\n",
              " 0.031960003077983856,\n",
              " 0.08185013383626938,\n",
              " -0.05903403460979462,\n",
              " -0.012854286469519138,\n",
              " -0.03623981401324272,\n",
              " -0.0023567278403788805,\n",
              " -0.02713754028081894,\n",
              " -0.008420920930802822,\n",
              " -0.015308680944144726,\n",
              " -0.0023581846617162228,\n",
              " 0.04092717543244362,\n",
              " 0.022703366354107857,\n",
              " 0.023952795192599297,\n",
              " -0.0294541884213686,\n",
              " -0.02546665072441101,\n",
              " 0.0072887958958745,\n",
              " -0.03292713314294815,\n",
              " -0.08286344259977341,\n",
              " -0.00673199025914073,\n",
              " 0.07401401549577713,\n",
              " 0.053955744951963425,\n",
              " 0.0020951617043465376]"
            ]
          },
          "metadata": {},
          "execution_count": 152
        }
      ]
    },
    {
      "cell_type": "code",
      "source": [
        "emb=embed_model.embed_query(chunk_list[3])"
      ],
      "metadata": {
        "id": "-FwVlyLZj9kT"
      },
      "execution_count": 153,
      "outputs": []
    },
    {
      "cell_type": "code",
      "source": [
        "len(emb)"
      ],
      "metadata": {
        "colab": {
          "base_uri": "https://localhost:8080/"
        },
        "id": "3mwaEKouk4hW",
        "outputId": "22a3c95b-a418-45bc-9a08-ae8a778a1347"
      },
      "execution_count": 154,
      "outputs": [
        {
          "output_type": "execute_result",
          "data": {
            "text/plain": [
              "384"
            ]
          },
          "metadata": {},
          "execution_count": 154
        }
      ]
    },
    {
      "cell_type": "code",
      "source": [
        "emb"
      ],
      "metadata": {
        "colab": {
          "base_uri": "https://localhost:8080/"
        },
        "id": "JSsz7ny3lRKd",
        "outputId": "b18da645-ccc3-43a4-8ace-c7d24aef93c0"
      },
      "execution_count": 155,
      "outputs": [
        {
          "output_type": "execute_result",
          "data": {
            "text/plain": [
              "[-0.049440667033195496,\n",
              " -0.03099193051457405,\n",
              " 0.008443644270300865,\n",
              " -0.04479700326919556,\n",
              " -0.007433593738824129,\n",
              " 0.002795254811644554,\n",
              " 0.02918870933353901,\n",
              " 0.015950007364153862,\n",
              " 0.05904022976756096,\n",
              " -0.012893536128103733,\n",
              " -0.019183559343218803,\n",
              " -0.030523251742124557,\n",
              " 0.043918170034885406,\n",
              " 0.04238740727305412,\n",
              " 0.04120709374547005,\n",
              " 0.027273258194327354,\n",
              " -0.025464966893196106,\n",
              " 0.025329576805233955,\n",
              " -0.02922990918159485,\n",
              " -0.03613605722784996,\n",
              " 0.08245636522769928,\n",
              " 0.013694504275918007,\n",
              " -0.06247206777334213,\n",
              " -0.03913552686572075,\n",
              " -0.08964415639638901,\n",
              " 0.04558465629816055,\n",
              " 0.007550738286226988,\n",
              " -0.03636794164776802,\n",
              " -0.07338351756334305,\n",
              " -0.09941058605909348,\n",
              " 0.0008804174140095711,\n",
              " -0.03729349002242088,\n",
              " 0.1079108715057373,\n",
              " -0.020096302032470703,\n",
              " 0.013301809318363667,\n",
              " 0.028852079063653946,\n",
              " -0.0012562902411445975,\n",
              " 0.0545598603785038,\n",
              " -0.03165725618600845,\n",
              " 0.031982965767383575,\n",
              " 0.01608229987323284,\n",
              " -0.0736512839794159,\n",
              " 0.00048236336442641914,\n",
              " -0.024582182988524437,\n",
              " 0.06501088291406631,\n",
              " 0.005881019402295351,\n",
              " -0.03860098123550415,\n",
              " -0.012368801981210709,\n",
              " -0.0329146683216095,\n",
              " -0.009352653287351131,\n",
              " -0.0406966395676136,\n",
              " -0.02681443840265274,\n",
              " 0.005473762284964323,\n",
              " -0.004545362200587988,\n",
              " 0.01396450400352478,\n",
              " 0.04895990714430809,\n",
              " 0.04934562370181084,\n",
              " 0.061896633356809616,\n",
              " 0.037442371249198914,\n",
              " 0.009516824968159199,\n",
              " 0.009071498177945614,\n",
              " 0.08427731692790985,\n",
              " -0.10116786509752274,\n",
              " 0.08940311521291733,\n",
              " 0.03781551122665405,\n",
              " 0.008630684576928616,\n",
              " -0.01743597909808159,\n",
              " -0.06130699813365936,\n",
              " 0.041154645383358,\n",
              " 0.0236335638910532,\n",
              " 0.04112030565738678,\n",
              " 0.02021666243672371,\n",
              " 0.04781780019402504,\n",
              " 0.015084126964211464,\n",
              " 0.009551705792546272,\n",
              " 0.052503302693367004,\n",
              " 0.018843363970518112,\n",
              " -0.06403970718383789,\n",
              " 0.03150976821780205,\n",
              " -0.0024887362960726023,\n",
              " 0.0061403424479067326,\n",
              " -0.017768030986189842,\n",
              " -0.05487866327166557,\n",
              " 0.020542321726679802,\n",
              " -0.04927971586585045,\n",
              " -0.02506321296095848,\n",
              " -0.06188293546438217,\n",
              " -0.0031136595644056797,\n",
              " 0.07624908536672592,\n",
              " -0.013993150554597378,\n",
              " -0.022281082347035408,\n",
              " 0.02202814817428589,\n",
              " -0.05296935513615608,\n",
              " 0.02846568450331688,\n",
              " 0.05904858559370041,\n",
              " 0.02877960167825222,\n",
              " -0.022897228598594666,\n",
              " -0.011317211203277111,\n",
              " -0.028454914689064026,\n",
              " 0.301716148853302,\n",
              " 0.011260182596743107,\n",
              " -0.04332553595304489,\n",
              " 0.04117916524410248,\n",
              " -0.07858409732580185,\n",
              " 0.01613491214811802,\n",
              " -0.03896098583936691,\n",
              " -0.03935261815786362,\n",
              " -0.09873891621828079,\n",
              " -0.06805604696273804,\n",
              " -0.02076280117034912,\n",
              " -0.025770915672183037,\n",
              " -0.0247587151825428,\n",
              " 0.032881174236536026,\n",
              " 0.05407622084021568,\n",
              " 0.003665874246507883,\n",
              " 0.023969575762748718,\n",
              " 0.03377513960003853,\n",
              " 0.0005239471793174744,\n",
              " 0.05280118063092232,\n",
              " -0.01685083471238613,\n",
              " -0.001478766673244536,\n",
              " 0.018934933468699455,\n",
              " 0.0008859545341692865,\n",
              " 0.024215873330831528,\n",
              " 0.011496617458760738,\n",
              " -0.04186823219060898,\n",
              " -0.012137035839259624,\n",
              " 0.10605727881193161,\n",
              " -0.10436902195215225,\n",
              " 0.0484701544046402,\n",
              " 0.06146669760346413,\n",
              " 0.013110729865729809,\n",
              " -0.038751114159822464,\n",
              " 0.006051022559404373,\n",
              " 0.05859508365392685,\n",
              " 7.775503763696179e-05,\n",
              " -0.02109508402645588,\n",
              " -0.01731635257601738,\n",
              " -0.05556434765458107,\n",
              " 0.009167851880192757,\n",
              " -0.08065031468868256,\n",
              " -0.008795434609055519,\n",
              " 0.028868913650512695,\n",
              " -0.07717078924179077,\n",
              " -0.02469990961253643,\n",
              " 0.10650700330734253,\n",
              " 0.06087944656610489,\n",
              " -0.00019923826039303094,\n",
              " -0.009860003367066383,\n",
              " -0.05086389183998108,\n",
              " 0.004777776543051004,\n",
              " -0.007267063949257135,\n",
              " 0.0026308204978704453,\n",
              " -0.058675311505794525,\n",
              " -0.010721485130488873,\n",
              " 0.03808075934648514,\n",
              " 0.015598422847688198,\n",
              " -0.008859867230057716,\n",
              " -0.06551702320575714,\n",
              " 0.026374302804470062,\n",
              " -0.04052795097231865,\n",
              " 0.01686772145330906,\n",
              " -0.06995972990989685,\n",
              " 0.12612855434417725,\n",
              " -0.03137246519327164,\n",
              " -0.05272320657968521,\n",
              " -0.0020181676372885704,\n",
              " -0.016855839639902115,\n",
              " 0.021376043558120728,\n",
              " 0.051438480615615845,\n",
              " 0.06403455138206482,\n",
              " 0.04666939750313759,\n",
              " -0.03591411933302879,\n",
              " 0.027899671345949173,\n",
              " 0.03678974136710167,\n",
              " 0.018923569470643997,\n",
              " -0.025332875549793243,\n",
              " -0.015337247401475906,\n",
              " -0.010725506581366062,\n",
              " 0.05754908174276352,\n",
              " -0.006117660086601973,\n",
              " -0.08445247262716293,\n",
              " 0.01298790704458952,\n",
              " 0.013235288672149181,\n",
              " 0.03749002143740654,\n",
              " -0.009744776412844658,\n",
              " 0.008701047860085964,\n",
              " -0.0445614829659462,\n",
              " -0.03244209662079811,\n",
              " -0.0053711701184511185,\n",
              " -0.02777855098247528,\n",
              " 0.08672575652599335,\n",
              " 0.03200937435030937,\n",
              " 0.016585174947977066,\n",
              " -0.030598390847444534,\n",
              " -0.033245883882045746,\n",
              " 0.02273741364479065,\n",
              " 0.0055707297287881374,\n",
              " -0.06588004529476166,\n",
              " -0.014678040519356728,\n",
              " -0.039996035397052765,\n",
              " -0.024326147511601448,\n",
              " -0.03394221514463425,\n",
              " -0.008166599087417126,\n",
              " -0.006072620861232281,\n",
              " -0.07255139946937561,\n",
              " 0.009294555522501469,\n",
              " 0.008502190001308918,\n",
              " 0.07358518242835999,\n",
              " 0.0539063960313797,\n",
              " -0.007788583170622587,\n",
              " -0.07035429775714874,\n",
              " 0.03317873552441597,\n",
              " -0.008164245635271072,\n",
              " -0.024351870641112328,\n",
              " -0.0354267917573452,\n",
              " 0.020903700962662697,\n",
              " -0.0101421307772398,\n",
              " 0.015420581214129925,\n",
              " 0.02907566726207733,\n",
              " 0.012264168821275234,\n",
              " 0.014708547852933407,\n",
              " -0.012274585664272308,\n",
              " -0.23940409719944,\n",
              " -0.005475783254951239,\n",
              " 0.01666688732802868,\n",
              " -0.05625934526324272,\n",
              " -0.0068351193331182,\n",
              " -0.01832437515258789,\n",
              " 0.0032617489341646433,\n",
              " -0.018606316298246384,\n",
              " 0.03613574057817459,\n",
              " 0.036248814314603806,\n",
              " 0.04504295438528061,\n",
              " -0.02287084236741066,\n",
              " -0.02227025106549263,\n",
              " 0.006842287722975016,\n",
              " 0.0015280171064659953,\n",
              " -0.012979542836546898,\n",
              " 0.03616888448596001,\n",
              " 0.03248995915055275,\n",
              " -0.04315939173102379,\n",
              " 0.016848070546984673,\n",
              " 0.044011425226926804,\n",
              " 0.04546814411878586,\n",
              " 0.011977383866906166,\n",
              " -0.12554892897605896,\n",
              " -0.031218767166137695,\n",
              " -0.020980898290872574,\n",
              " 0.19284041225910187,\n",
              " -0.05100446939468384,\n",
              " -0.0070344521664083,\n",
              " 0.040878355503082275,\n",
              " -0.017629576846957207,\n",
              " -0.0063304780051112175,\n",
              " -0.03196008503437042,\n",
              " -0.09288880228996277,\n",
              " 0.05421241745352745,\n",
              " 0.020674793049693108,\n",
              " 0.01066471729427576,\n",
              " 0.00278291548602283,\n",
              " -0.04430145397782326,\n",
              " -0.023891057819128036,\n",
              " -0.026987699791789055,\n",
              " 0.03294168785214424,\n",
              " -0.004933930467814207,\n",
              " -0.05641978979110718,\n",
              " -0.03993048891425133,\n",
              " -0.0124495355412364,\n",
              " -0.007312890142202377,\n",
              " -0.05623576045036316,\n",
              " -0.06779546290636063,\n",
              " -0.006943617481738329,\n",
              " -0.01734304241836071,\n",
              " 0.0006262384704314172,\n",
              " -0.008772417902946472,\n",
              " -0.01808222010731697,\n",
              " -0.02591468207538128,\n",
              " -0.037390220910310745,\n",
              " -0.0418647862970829,\n",
              " 0.051294419914484024,\n",
              " 0.024771148338913918,\n",
              " 0.03850075230002403,\n",
              " 0.030007775872945786,\n",
              " -0.016213400289416313,\n",
              " -0.061666812747716904,\n",
              " -0.009851980954408646,\n",
              " 0.05580039322376251,\n",
              " -0.04455209895968437,\n",
              " -0.021983802318572998,\n",
              " 0.0032702430617064238,\n",
              " -0.012866907753050327,\n",
              " 0.003462256398051977,\n",
              " -0.021024633198976517,\n",
              " 0.12082162499427795,\n",
              " 0.030748628079891205,\n",
              " -0.015705686062574387,\n",
              " 0.03438238054513931,\n",
              " -0.020733457058668137,\n",
              " 0.07504001259803772,\n",
              " -0.04739784449338913,\n",
              " 0.019814670085906982,\n",
              " 0.026458172127604485,\n",
              " 0.05432063713669777,\n",
              " -0.014625548385083675,\n",
              " 0.037114113569259644,\n",
              " 0.01888870820403099,\n",
              " 0.0874972715973854,\n",
              " 0.003119419328868389,\n",
              " 0.04167814180254936,\n",
              " -0.0538107231259346,\n",
              " 0.06837787479162216,\n",
              " 0.05260658636689186,\n",
              " -0.0009756137151271105,\n",
              " 0.0521414652466774,\n",
              " -0.05059456825256348,\n",
              " -0.04318438470363617,\n",
              " 0.019574793055653572,\n",
              " -0.015404089353978634,\n",
              " -0.2837122678756714,\n",
              " 0.041320931166410446,\n",
              " -0.000552413344848901,\n",
              " 0.10574956983327866,\n",
              " -0.03565945476293564,\n",
              " -0.011820473708212376,\n",
              " 0.007441269233822823,\n",
              " -0.02251681126654148,\n",
              " 0.004852901678532362,\n",
              " 0.01391301117837429,\n",
              " -0.04039435461163521,\n",
              " 0.006167721003293991,\n",
              " -0.0060075921937823296,\n",
              " -0.0008582843001931906,\n",
              " 0.0029022356029599905,\n",
              " -0.0006014684913679957,\n",
              " 0.06661182641983032,\n",
              " -0.08172941952943802,\n",
              " 0.04421721398830414,\n",
              " -0.02870471216738224,\n",
              " 0.027327921241521835,\n",
              " 0.07940851897001266,\n",
              " 0.260646253824234,\n",
              " -0.06816479563713074,\n",
              " 0.06459596753120422,\n",
              " 0.019023792818188667,\n",
              " 0.0029393532313406467,\n",
              " -0.017579704523086548,\n",
              " 0.03343500196933746,\n",
              " -0.04543451592326164,\n",
              " -0.017360061407089233,\n",
              " -0.014612843282520771,\n",
              " 0.09632387012243271,\n",
              " -0.049287233501672745,\n",
              " -0.007514175493270159,\n",
              " 0.07071259617805481,\n",
              " -0.00591203011572361,\n",
              " -0.02016354911029339,\n",
              " 0.0013894335133954883,\n",
              " -0.011489199474453926,\n",
              " -0.005978818517178297,\n",
              " 0.02110818587243557,\n",
              " 0.023669440299272537,\n",
              " 0.04226730018854141,\n",
              " 0.08084764331579208,\n",
              " 0.03792017325758934,\n",
              " -0.03771691769361496,\n",
              " -0.036578256636857986,\n",
              " -0.019329071044921875,\n",
              " 0.009907606057822704,\n",
              " 0.013337831944227219,\n",
              " -0.024526523426175117,\n",
              " -0.04178540036082268,\n",
              " -0.016266943886876106,\n",
              " 0.032450269907712936,\n",
              " 0.02230689488351345,\n",
              " 0.014799193479120731,\n",
              " 0.0015368664171546698,\n",
              " -0.06714309751987457,\n",
              " -0.10073994845151901,\n",
              " 0.033537380397319794,\n",
              " -0.05209800601005554,\n",
              " 0.06435411423444748,\n",
              " 0.05559472739696503,\n",
              " -0.0546276830136776]"
            ]
          },
          "metadata": {},
          "execution_count": 155
        }
      ]
    },
    {
      "cell_type": "code",
      "source": [
        "!pip install langchain openai\n"
      ],
      "metadata": {
        "colab": {
          "base_uri": "https://localhost:8080/"
        },
        "id": "02MbGnE6vYcb",
        "outputId": "0079cb03-bd57-42a2-8904-deb650367a18"
      },
      "execution_count": 159,
      "outputs": [
        {
          "output_type": "stream",
          "name": "stdout",
          "text": [
            "Requirement already satisfied: langchain in /usr/local/lib/python3.10/dist-packages (0.3.1)\n",
            "Requirement already satisfied: openai in /usr/local/lib/python3.10/dist-packages (1.48.0)\n",
            "Requirement already satisfied: PyYAML>=5.3 in /usr/local/lib/python3.10/dist-packages (from langchain) (6.0.2)\n",
            "Requirement already satisfied: SQLAlchemy<3,>=1.4 in /usr/local/lib/python3.10/dist-packages (from langchain) (2.0.35)\n",
            "Requirement already satisfied: aiohttp<4.0.0,>=3.8.3 in /usr/local/lib/python3.10/dist-packages (from langchain) (3.10.5)\n",
            "Requirement already satisfied: async-timeout<5.0.0,>=4.0.0 in /usr/local/lib/python3.10/dist-packages (from langchain) (4.0.3)\n",
            "Requirement already satisfied: langchain-core<0.4.0,>=0.3.6 in /usr/local/lib/python3.10/dist-packages (from langchain) (0.3.6)\n",
            "Requirement already satisfied: langchain-text-splitters<0.4.0,>=0.3.0 in /usr/local/lib/python3.10/dist-packages (from langchain) (0.3.0)\n",
            "Requirement already satisfied: langsmith<0.2.0,>=0.1.17 in /usr/local/lib/python3.10/dist-packages (from langchain) (0.1.128)\n",
            "Requirement already satisfied: numpy<2,>=1 in /usr/local/lib/python3.10/dist-packages (from langchain) (1.26.4)\n",
            "Requirement already satisfied: pydantic<3.0.0,>=2.7.4 in /usr/local/lib/python3.10/dist-packages (from langchain) (2.9.2)\n",
            "Requirement already satisfied: requests<3,>=2 in /usr/local/lib/python3.10/dist-packages (from langchain) (2.32.3)\n",
            "Requirement already satisfied: tenacity!=8.4.0,<9.0.0,>=8.1.0 in /usr/local/lib/python3.10/dist-packages (from langchain) (8.5.0)\n",
            "Requirement already satisfied: anyio<5,>=3.5.0 in /usr/local/lib/python3.10/dist-packages (from openai) (3.7.1)\n",
            "Requirement already satisfied: distro<2,>=1.7.0 in /usr/lib/python3/dist-packages (from openai) (1.7.0)\n",
            "Requirement already satisfied: httpx<1,>=0.23.0 in /usr/local/lib/python3.10/dist-packages (from openai) (0.27.2)\n",
            "Requirement already satisfied: jiter<1,>=0.4.0 in /usr/local/lib/python3.10/dist-packages (from openai) (0.5.0)\n",
            "Requirement already satisfied: sniffio in /usr/local/lib/python3.10/dist-packages (from openai) (1.3.1)\n",
            "Requirement already satisfied: tqdm>4 in /usr/local/lib/python3.10/dist-packages (from openai) (4.66.5)\n",
            "Requirement already satisfied: typing-extensions<5,>=4.11 in /usr/local/lib/python3.10/dist-packages (from openai) (4.12.2)\n",
            "Requirement already satisfied: aiohappyeyeballs>=2.3.0 in /usr/local/lib/python3.10/dist-packages (from aiohttp<4.0.0,>=3.8.3->langchain) (2.4.0)\n",
            "Requirement already satisfied: aiosignal>=1.1.2 in /usr/local/lib/python3.10/dist-packages (from aiohttp<4.0.0,>=3.8.3->langchain) (1.3.1)\n",
            "Requirement already satisfied: attrs>=17.3.0 in /usr/local/lib/python3.10/dist-packages (from aiohttp<4.0.0,>=3.8.3->langchain) (24.2.0)\n",
            "Requirement already satisfied: frozenlist>=1.1.1 in /usr/local/lib/python3.10/dist-packages (from aiohttp<4.0.0,>=3.8.3->langchain) (1.4.1)\n",
            "Requirement already satisfied: multidict<7.0,>=4.5 in /usr/local/lib/python3.10/dist-packages (from aiohttp<4.0.0,>=3.8.3->langchain) (6.1.0)\n",
            "Requirement already satisfied: yarl<2.0,>=1.0 in /usr/local/lib/python3.10/dist-packages (from aiohttp<4.0.0,>=3.8.3->langchain) (1.11.1)\n",
            "Requirement already satisfied: idna>=2.8 in /usr/local/lib/python3.10/dist-packages (from anyio<5,>=3.5.0->openai) (3.10)\n",
            "Requirement already satisfied: exceptiongroup in /usr/local/lib/python3.10/dist-packages (from anyio<5,>=3.5.0->openai) (1.2.2)\n",
            "Requirement already satisfied: certifi in /usr/local/lib/python3.10/dist-packages (from httpx<1,>=0.23.0->openai) (2024.8.30)\n",
            "Requirement already satisfied: httpcore==1.* in /usr/local/lib/python3.10/dist-packages (from httpx<1,>=0.23.0->openai) (1.0.5)\n",
            "Requirement already satisfied: h11<0.15,>=0.13 in /usr/local/lib/python3.10/dist-packages (from httpcore==1.*->httpx<1,>=0.23.0->openai) (0.14.0)\n",
            "Requirement already satisfied: jsonpatch<2.0,>=1.33 in /usr/local/lib/python3.10/dist-packages (from langchain-core<0.4.0,>=0.3.6->langchain) (1.33)\n",
            "Requirement already satisfied: packaging<25,>=23.2 in /usr/local/lib/python3.10/dist-packages (from langchain-core<0.4.0,>=0.3.6->langchain) (24.1)\n",
            "Requirement already satisfied: orjson<4.0.0,>=3.9.14 in /usr/local/lib/python3.10/dist-packages (from langsmith<0.2.0,>=0.1.17->langchain) (3.10.7)\n",
            "Requirement already satisfied: annotated-types>=0.6.0 in /usr/local/lib/python3.10/dist-packages (from pydantic<3.0.0,>=2.7.4->langchain) (0.7.0)\n",
            "Requirement already satisfied: pydantic-core==2.23.4 in /usr/local/lib/python3.10/dist-packages (from pydantic<3.0.0,>=2.7.4->langchain) (2.23.4)\n",
            "Requirement already satisfied: charset-normalizer<4,>=2 in /usr/local/lib/python3.10/dist-packages (from requests<3,>=2->langchain) (3.3.2)\n",
            "Requirement already satisfied: urllib3<3,>=1.21.1 in /usr/local/lib/python3.10/dist-packages (from requests<3,>=2->langchain) (2.2.3)\n",
            "Requirement already satisfied: greenlet!=0.4.17 in /usr/local/lib/python3.10/dist-packages (from SQLAlchemy<3,>=1.4->langchain) (3.1.1)\n",
            "Requirement already satisfied: jsonpointer>=1.9 in /usr/local/lib/python3.10/dist-packages (from jsonpatch<2.0,>=1.33->langchain-core<0.4.0,>=0.3.6->langchain) (3.0.0)\n"
          ]
        }
      ]
    },
    {
      "cell_type": "code",
      "source": [
        "from langchain_openai import OpenAIEmbeddings\n",
        "\n",
        "# embed_fn = OpenAIEmbeddings(model='text-embedding-ada-002', api_key=os.getenv(\"OPENAI_API_KEY\"))\n",
        "# error beacause of OpenAi key\n"
      ],
      "metadata": {
        "id": "6kAhMxfUlXP5"
      },
      "execution_count": 177,
      "outputs": []
    },
    {
      "cell_type": "code",
      "source": [
        "# embed_fn = OpenAIEmbeddings(model='text-embedding-ada-002', api_key=os.getenv(\"OPENAI_API_KEY\"))\n",
        "# # embed_fn = OpenAIEmbeddings(model='text-embedding-ada-002', api_key=os.getenv(\"OPENAI_API_KEY\"))\n",
        "# # error beacause of OpenAi key"
      ],
      "metadata": {
        "id": "6OCALn_6lpSt"
      },
      "execution_count": 164,
      "outputs": []
    },
    {
      "cell_type": "code",
      "source": [
        "# emb=embed_fn.embed_query(\"how r you\")\n",
        "# #error beacuse of Apki and object is not defined"
      ],
      "metadata": {
        "id": "fHVBlny4xTH8"
      },
      "execution_count": 167,
      "outputs": []
    },
    {
      "cell_type": "code",
      "source": [
        "!pip install langchain_experimental"
      ],
      "metadata": {
        "colab": {
          "base_uri": "https://localhost:8080/"
        },
        "id": "x8UhoElyyRCF",
        "outputId": "1ab3dea3-d737-401a-fbdc-a1161296033b"
      },
      "execution_count": 170,
      "outputs": [
        {
          "output_type": "stream",
          "name": "stdout",
          "text": [
            "Collecting langchain_experimental\n",
            "  Downloading langchain_experimental-0.3.1.post1-py3-none-any.whl.metadata (1.7 kB)\n",
            "Requirement already satisfied: langchain-community<0.4.0,>=0.3.0 in /usr/local/lib/python3.10/dist-packages (from langchain_experimental) (0.3.1)\n",
            "Requirement already satisfied: langchain-core<0.4.0,>=0.3.5 in /usr/local/lib/python3.10/dist-packages (from langchain_experimental) (0.3.6)\n",
            "Requirement already satisfied: PyYAML>=5.3 in /usr/local/lib/python3.10/dist-packages (from langchain-community<0.4.0,>=0.3.0->langchain_experimental) (6.0.2)\n",
            "Requirement already satisfied: SQLAlchemy<3,>=1.4 in /usr/local/lib/python3.10/dist-packages (from langchain-community<0.4.0,>=0.3.0->langchain_experimental) (2.0.35)\n",
            "Requirement already satisfied: aiohttp<4.0.0,>=3.8.3 in /usr/local/lib/python3.10/dist-packages (from langchain-community<0.4.0,>=0.3.0->langchain_experimental) (3.10.5)\n",
            "Requirement already satisfied: dataclasses-json<0.7,>=0.5.7 in /usr/local/lib/python3.10/dist-packages (from langchain-community<0.4.0,>=0.3.0->langchain_experimental) (0.6.7)\n",
            "Requirement already satisfied: langchain<0.4.0,>=0.3.1 in /usr/local/lib/python3.10/dist-packages (from langchain-community<0.4.0,>=0.3.0->langchain_experimental) (0.3.1)\n",
            "Requirement already satisfied: langsmith<0.2.0,>=0.1.125 in /usr/local/lib/python3.10/dist-packages (from langchain-community<0.4.0,>=0.3.0->langchain_experimental) (0.1.128)\n",
            "Requirement already satisfied: numpy<2,>=1 in /usr/local/lib/python3.10/dist-packages (from langchain-community<0.4.0,>=0.3.0->langchain_experimental) (1.26.4)\n",
            "Requirement already satisfied: pydantic-settings<3.0.0,>=2.4.0 in /usr/local/lib/python3.10/dist-packages (from langchain-community<0.4.0,>=0.3.0->langchain_experimental) (2.5.2)\n",
            "Requirement already satisfied: requests<3,>=2 in /usr/local/lib/python3.10/dist-packages (from langchain-community<0.4.0,>=0.3.0->langchain_experimental) (2.32.3)\n",
            "Requirement already satisfied: tenacity!=8.4.0,<9.0.0,>=8.1.0 in /usr/local/lib/python3.10/dist-packages (from langchain-community<0.4.0,>=0.3.0->langchain_experimental) (8.5.0)\n",
            "Requirement already satisfied: jsonpatch<2.0,>=1.33 in /usr/local/lib/python3.10/dist-packages (from langchain-core<0.4.0,>=0.3.5->langchain_experimental) (1.33)\n",
            "Requirement already satisfied: packaging<25,>=23.2 in /usr/local/lib/python3.10/dist-packages (from langchain-core<0.4.0,>=0.3.5->langchain_experimental) (24.1)\n",
            "Requirement already satisfied: pydantic<3.0.0,>=2.5.2 in /usr/local/lib/python3.10/dist-packages (from langchain-core<0.4.0,>=0.3.5->langchain_experimental) (2.9.2)\n",
            "Requirement already satisfied: typing-extensions>=4.7 in /usr/local/lib/python3.10/dist-packages (from langchain-core<0.4.0,>=0.3.5->langchain_experimental) (4.12.2)\n",
            "Requirement already satisfied: aiohappyeyeballs>=2.3.0 in /usr/local/lib/python3.10/dist-packages (from aiohttp<4.0.0,>=3.8.3->langchain-community<0.4.0,>=0.3.0->langchain_experimental) (2.4.0)\n",
            "Requirement already satisfied: aiosignal>=1.1.2 in /usr/local/lib/python3.10/dist-packages (from aiohttp<4.0.0,>=3.8.3->langchain-community<0.4.0,>=0.3.0->langchain_experimental) (1.3.1)\n",
            "Requirement already satisfied: attrs>=17.3.0 in /usr/local/lib/python3.10/dist-packages (from aiohttp<4.0.0,>=3.8.3->langchain-community<0.4.0,>=0.3.0->langchain_experimental) (24.2.0)\n",
            "Requirement already satisfied: frozenlist>=1.1.1 in /usr/local/lib/python3.10/dist-packages (from aiohttp<4.0.0,>=3.8.3->langchain-community<0.4.0,>=0.3.0->langchain_experimental) (1.4.1)\n",
            "Requirement already satisfied: multidict<7.0,>=4.5 in /usr/local/lib/python3.10/dist-packages (from aiohttp<4.0.0,>=3.8.3->langchain-community<0.4.0,>=0.3.0->langchain_experimental) (6.1.0)\n",
            "Requirement already satisfied: yarl<2.0,>=1.0 in /usr/local/lib/python3.10/dist-packages (from aiohttp<4.0.0,>=3.8.3->langchain-community<0.4.0,>=0.3.0->langchain_experimental) (1.11.1)\n",
            "Requirement already satisfied: async-timeout<5.0,>=4.0 in /usr/local/lib/python3.10/dist-packages (from aiohttp<4.0.0,>=3.8.3->langchain-community<0.4.0,>=0.3.0->langchain_experimental) (4.0.3)\n",
            "Requirement already satisfied: marshmallow<4.0.0,>=3.18.0 in /usr/local/lib/python3.10/dist-packages (from dataclasses-json<0.7,>=0.5.7->langchain-community<0.4.0,>=0.3.0->langchain_experimental) (3.22.0)\n",
            "Requirement already satisfied: typing-inspect<1,>=0.4.0 in /usr/local/lib/python3.10/dist-packages (from dataclasses-json<0.7,>=0.5.7->langchain-community<0.4.0,>=0.3.0->langchain_experimental) (0.9.0)\n",
            "Requirement already satisfied: jsonpointer>=1.9 in /usr/local/lib/python3.10/dist-packages (from jsonpatch<2.0,>=1.33->langchain-core<0.4.0,>=0.3.5->langchain_experimental) (3.0.0)\n",
            "Requirement already satisfied: langchain-text-splitters<0.4.0,>=0.3.0 in /usr/local/lib/python3.10/dist-packages (from langchain<0.4.0,>=0.3.1->langchain-community<0.4.0,>=0.3.0->langchain_experimental) (0.3.0)\n",
            "Requirement already satisfied: httpx<1,>=0.23.0 in /usr/local/lib/python3.10/dist-packages (from langsmith<0.2.0,>=0.1.125->langchain-community<0.4.0,>=0.3.0->langchain_experimental) (0.27.2)\n",
            "Requirement already satisfied: orjson<4.0.0,>=3.9.14 in /usr/local/lib/python3.10/dist-packages (from langsmith<0.2.0,>=0.1.125->langchain-community<0.4.0,>=0.3.0->langchain_experimental) (3.10.7)\n",
            "Requirement already satisfied: annotated-types>=0.6.0 in /usr/local/lib/python3.10/dist-packages (from pydantic<3.0.0,>=2.5.2->langchain-core<0.4.0,>=0.3.5->langchain_experimental) (0.7.0)\n",
            "Requirement already satisfied: pydantic-core==2.23.4 in /usr/local/lib/python3.10/dist-packages (from pydantic<3.0.0,>=2.5.2->langchain-core<0.4.0,>=0.3.5->langchain_experimental) (2.23.4)\n",
            "Requirement already satisfied: python-dotenv>=0.21.0 in /usr/local/lib/python3.10/dist-packages (from pydantic-settings<3.0.0,>=2.4.0->langchain-community<0.4.0,>=0.3.0->langchain_experimental) (1.0.1)\n",
            "Requirement already satisfied: charset-normalizer<4,>=2 in /usr/local/lib/python3.10/dist-packages (from requests<3,>=2->langchain-community<0.4.0,>=0.3.0->langchain_experimental) (3.3.2)\n",
            "Requirement already satisfied: idna<4,>=2.5 in /usr/local/lib/python3.10/dist-packages (from requests<3,>=2->langchain-community<0.4.0,>=0.3.0->langchain_experimental) (3.10)\n",
            "Requirement already satisfied: urllib3<3,>=1.21.1 in /usr/local/lib/python3.10/dist-packages (from requests<3,>=2->langchain-community<0.4.0,>=0.3.0->langchain_experimental) (2.2.3)\n",
            "Requirement already satisfied: certifi>=2017.4.17 in /usr/local/lib/python3.10/dist-packages (from requests<3,>=2->langchain-community<0.4.0,>=0.3.0->langchain_experimental) (2024.8.30)\n",
            "Requirement already satisfied: greenlet!=0.4.17 in /usr/local/lib/python3.10/dist-packages (from SQLAlchemy<3,>=1.4->langchain-community<0.4.0,>=0.3.0->langchain_experimental) (3.1.1)\n",
            "Requirement already satisfied: anyio in /usr/local/lib/python3.10/dist-packages (from httpx<1,>=0.23.0->langsmith<0.2.0,>=0.1.125->langchain-community<0.4.0,>=0.3.0->langchain_experimental) (3.7.1)\n",
            "Requirement already satisfied: httpcore==1.* in /usr/local/lib/python3.10/dist-packages (from httpx<1,>=0.23.0->langsmith<0.2.0,>=0.1.125->langchain-community<0.4.0,>=0.3.0->langchain_experimental) (1.0.5)\n",
            "Requirement already satisfied: sniffio in /usr/local/lib/python3.10/dist-packages (from httpx<1,>=0.23.0->langsmith<0.2.0,>=0.1.125->langchain-community<0.4.0,>=0.3.0->langchain_experimental) (1.3.1)\n",
            "Requirement already satisfied: h11<0.15,>=0.13 in /usr/local/lib/python3.10/dist-packages (from httpcore==1.*->httpx<1,>=0.23.0->langsmith<0.2.0,>=0.1.125->langchain-community<0.4.0,>=0.3.0->langchain_experimental) (0.14.0)\n",
            "Requirement already satisfied: mypy-extensions>=0.3.0 in /usr/local/lib/python3.10/dist-packages (from typing-inspect<1,>=0.4.0->dataclasses-json<0.7,>=0.5.7->langchain-community<0.4.0,>=0.3.0->langchain_experimental) (1.0.0)\n",
            "Requirement already satisfied: exceptiongroup in /usr/local/lib/python3.10/dist-packages (from anyio->httpx<1,>=0.23.0->langsmith<0.2.0,>=0.1.125->langchain-community<0.4.0,>=0.3.0->langchain_experimental) (1.2.2)\n",
            "Downloading langchain_experimental-0.3.1.post1-py3-none-any.whl (208 kB)\n",
            "\u001b[2K   \u001b[90m━━━━━━━━━━━━━━━━━━━━━━━━━━━━━━━━━━━━━━━━\u001b[0m \u001b[32m208.1/208.1 kB\u001b[0m \u001b[31m12.7 MB/s\u001b[0m eta \u001b[36m0:00:00\u001b[0m\n",
            "\u001b[?25hInstalling collected packages: langchain_experimental\n",
            "Successfully installed langchain_experimental-0.3.1.post1\n"
          ]
        }
      ]
    },
    {
      "cell_type": "markdown",
      "source": [
        "# SEMATIC SPLITTER IS USED FOR EMBEDINGS"
      ],
      "metadata": {
        "id": "zexNQvXTy2IH"
      }
    },
    {
      "cell_type": "code",
      "source": [
        "from langchain_experimental.text_splitter import SemanticChunker"
      ],
      "metadata": {
        "id": "i8o3w5S_ymKd"
      },
      "execution_count": 172,
      "outputs": []
    },
    {
      "cell_type": "code",
      "source": [
        "!pip install --quiet langchain_experimental langchain_openai"
      ],
      "metadata": {
        "colab": {
          "base_uri": "https://localhost:8080/"
        },
        "id": "91e3YrEAzNxC",
        "outputId": "d9b900c4-e08f-4292-dce7-47271c220142"
      },
      "execution_count": 173,
      "outputs": [
        {
          "output_type": "stream",
          "name": "stdout",
          "text": [
            "\u001b[?25l   \u001b[90m━━━━━━━━━━━━━━━━━━━━━━━━━━━━━━━━━━━━━━━━\u001b[0m \u001b[32m0.0/49.6 kB\u001b[0m \u001b[31m?\u001b[0m eta \u001b[36m-:--:--\u001b[0m\r\u001b[2K   \u001b[90m━━━━━━━━━━━━━━━━━━━━━━━━━━━━━━━━━━━━━━━━\u001b[0m \u001b[32m49.6/49.6 kB\u001b[0m \u001b[31m3.8 MB/s\u001b[0m eta \u001b[36m0:00:00\u001b[0m\n",
            "\u001b[?25h\u001b[?25l   \u001b[90m━━━━━━━━━━━━━━━━━━━━━━━━━━━━━━━━━━━━━━━━\u001b[0m \u001b[32m0.0/1.1 MB\u001b[0m \u001b[31m?\u001b[0m eta \u001b[36m-:--:--\u001b[0m\r\u001b[2K   \u001b[90m━━━━━━━━━━━━━━━━━━━━━━━━━━━━━━━━━━━━━━━━\u001b[0m \u001b[32m1.1/1.1 MB\u001b[0m \u001b[31m43.3 MB/s\u001b[0m eta \u001b[36m0:00:00\u001b[0m\n",
            "\u001b[?25h"
          ]
        }
      ]
    },
    {
      "cell_type": "code",
      "source": [
        "text_splitter=SemanticChunker(\n",
        "    embed_model,\n",
        "    breakpoint_threshold_type=\"percentile\"\n",
        ")"
      ],
      "metadata": {
        "id": "51Vji3onzw27"
      },
      "execution_count": 178,
      "outputs": []
    },
    {
      "cell_type": "code",
      "source": [
        "t=\"LangChain is a powerful framework designed to simplify the development of applications that integrate with large language models (LLMs). It provides tools for creating complex workflows that leverage LLMs for various tasks, including natural language processing, text generation, and data retrieval. With LangChain, developers can build applications that chain together multiple components, such as embeddings, APIs, and data sources, to create more sophisticated and responsive user experiences. The framework also supports modularity, enabling users to easily swap components in and out, making it highly adaptable for different use cases. By streamlining the integration of LLMs with existing systems, LangChain empowers developers to innovate and enhance their applications with cutting-edge AI capabilities.\""
      ],
      "metadata": {
        "id": "z1bG65lx3PGm"
      },
      "execution_count": 179,
      "outputs": []
    },
    {
      "cell_type": "code",
      "source": [
        "t"
      ],
      "metadata": {
        "colab": {
          "base_uri": "https://localhost:8080/",
          "height": 163
        },
        "id": "WS1rSfgG3xFk",
        "outputId": "d047743b-d598-4aed-b9a3-a03e08ae57ed"
      },
      "execution_count": 180,
      "outputs": [
        {
          "output_type": "execute_result",
          "data": {
            "text/plain": [
              "'LangChain is a powerful framework designed to simplify the development of applications that integrate with large language models (LLMs). It provides tools for creating complex workflows that leverage LLMs for various tasks, including natural language processing, text generation, and data retrieval. With LangChain, developers can build applications that chain together multiple components, such as embeddings, APIs, and data sources, to create more sophisticated and responsive user experiences. The framework also supports modularity, enabling users to easily swap components in and out, making it highly adaptable for different use cases. By streamlining the integration of LLMs with existing systems, LangChain empowers developers to innovate and enhance their applications with cutting-edge AI capabilities.'"
            ],
            "application/vnd.google.colaboratory.intrinsic+json": {
              "type": "string"
            }
          },
          "metadata": {},
          "execution_count": 180
        }
      ]
    },
    {
      "cell_type": "code",
      "source": [
        "semantic_chunks=text_splitter.split_text(t)"
      ],
      "metadata": {
        "id": "2PLWOzNk3zGR"
      },
      "execution_count": 183,
      "outputs": []
    },
    {
      "cell_type": "code",
      "source": [
        "len(semantic_chunks)"
      ],
      "metadata": {
        "colab": {
          "base_uri": "https://localhost:8080/"
        },
        "id": "_nJ65gip4MvJ",
        "outputId": "c77e76f5-b8eb-4309-e0b0-6e6f85016718"
      },
      "execution_count": 184,
      "outputs": [
        {
          "output_type": "execute_result",
          "data": {
            "text/plain": [
              "2"
            ]
          },
          "metadata": {},
          "execution_count": 184
        }
      ]
    },
    {
      "cell_type": "code",
      "source": [
        "semantic_chunks[1]"
      ],
      "metadata": {
        "colab": {
          "base_uri": "https://localhost:8080/",
          "height": 109
        },
        "id": "IYyqdGBW4Vxk",
        "outputId": "05e8192b-9af0-436d-edb8-70c8a849fb0a"
      },
      "execution_count": 185,
      "outputs": [
        {
          "output_type": "execute_result",
          "data": {
            "text/plain": [
              "'With LangChain, developers can build applications that chain together multiple components, such as embeddings, APIs, and data sources, to create more sophisticated and responsive user experiences. The framework also supports modularity, enabling users to easily swap components in and out, making it highly adaptable for different use cases. By streamlining the integration of LLMs with existing systems, LangChain empowers developers to innovate and enhance their applications with cutting-edge AI capabilities.'"
            ],
            "application/vnd.google.colaboratory.intrinsic+json": {
              "type": "string"
            }
          },
          "metadata": {},
          "execution_count": 185
        }
      ]
    },
    {
      "cell_type": "code",
      "source": [],
      "metadata": {
        "id": "8xz15n8g4gUM"
      },
      "execution_count": null,
      "outputs": []
    }
  ]
}